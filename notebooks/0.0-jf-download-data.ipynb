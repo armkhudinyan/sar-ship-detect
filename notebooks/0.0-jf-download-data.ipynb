{
 "cells": [
  {
   "cell_type": "markdown",
   "id": "456f23ea",
   "metadata": {},
   "source": [
    "Copernicus platform: https://scihub.copernicus.eu/\n",
    "\n",
    "Create geojson online: http://geojson.io"
   ]
  },
  {
   "cell_type": "code",
   "execution_count": 1,
   "id": "d619713f",
   "metadata": {},
   "outputs": [],
   "source": [
    "import sys\n",
    "import os\n",
    "import zipfile\n",
    "from getpass import getpass\n",
    "from sentinelsat import SentinelAPI, read_geojson, geojson_to_wkt\n",
    "from datetime import date\n",
    "\n",
    "sys.path.append(\"..\")\n",
    "\n",
    "#import src"
   ]
  },
  {
   "cell_type": "code",
   "execution_count": 6,
   "id": "28758277",
   "metadata": {},
   "outputs": [
    {
     "name": "stdout",
     "output_type": "stream",
     "text": [
      "Copernicus Username: joaofonseca\n",
      "Password: ········\n"
     ]
    }
   ],
   "source": [
    "api = SentinelAPI(input('Copernicus Username: '), getpass('Password: '), 'https://apihub.copernicus.eu/apihub')\n",
    "\n",
    "# search by polygon, time, and SciHub query keywords\n",
    "footprint = geojson_to_wkt(read_geojson('../assets/example_search_polygon.geojson'))\n",
    "products = api.query(footprint,\n",
    "                     date=('20220901', '20220930'),\n",
    "                     platformname='Sentinel-1')"
   ]
  },
  {
   "cell_type": "code",
   "execution_count": 3,
   "id": "b17bcec8",
   "metadata": {},
   "outputs": [],
   "source": [
    "# convert to Pandas DataFrame\n",
    "products_df = api.to_dataframe(products)\n",
    "# products_df.dtypes"
   ]
  },
  {
   "cell_type": "code",
   "execution_count": 31,
   "id": "f028795f",
   "metadata": {},
   "outputs": [],
   "source": [
    "filepath = os.path.join(\"..\", \"assets\", \"products\")\n",
    "os.makedirs(filepath, exist_ok=True)"
   ]
  },
  {
   "cell_type": "code",
   "execution_count": 24,
   "id": "2c2876d4",
   "metadata": {
    "collapsed": true
   },
   "outputs": [
    {
     "data": {
      "application/vnd.jupyter.widget-view+json": {
       "model_id": "a0c861daf4ed45fe8d3c6125bc75f3b7",
       "version_major": 2,
       "version_minor": 0
      },
      "text/plain": [
       "Downloading products:   0%|          | 0/1 [00:00<?, ?product/s]"
      ]
     },
     "metadata": {},
     "output_type": "display_data"
    },
    {
     "data": {
      "application/vnd.jupyter.widget-view+json": {
       "model_id": "891052a63e674646aef9bf2b6dbb20ef",
       "version_major": 2,
       "version_minor": 0
      },
      "text/plain": [
       "Downloading S1A_IW_RAW__0SDV_20220902T064331_20220902T064403_044822_055A5E_A7A0.zip:   0%|          | 0.00/1.6…"
      ]
     },
     "metadata": {},
     "output_type": "display_data"
    },
    {
     "name": "stderr",
     "output_type": "stream",
     "text": [
      "There was an error downloading S1A_IW_RAW__0SDV_20220902T064331_20220902T064403_044822_055A5E_A7A0\n",
      "Traceback (most recent call last):\n",
      "  File \"/home/joaofonseca/miniconda3/envs/ship-detection/lib/python3.8/site-packages/urllib3/response.py\", line 443, in _error_catcher\n",
      "    yield\n",
      "  File \"/home/joaofonseca/miniconda3/envs/ship-detection/lib/python3.8/site-packages/urllib3/response.py\", line 566, in read\n",
      "    data = self._fp_read(amt) if not fp_closed else b\"\"\n",
      "  File \"/home/joaofonseca/miniconda3/envs/ship-detection/lib/python3.8/site-packages/urllib3/response.py\", line 532, in _fp_read\n",
      "    return self._fp.read(amt) if amt is not None else self._fp.read()\n",
      "  File \"/home/joaofonseca/miniconda3/envs/ship-detection/lib/python3.8/http/client.py\", line 459, in read\n",
      "    n = self.readinto(b)\n",
      "  File \"/home/joaofonseca/miniconda3/envs/ship-detection/lib/python3.8/http/client.py\", line 503, in readinto\n",
      "    n = self.fp.readinto(b)\n",
      "  File \"/home/joaofonseca/miniconda3/envs/ship-detection/lib/python3.8/socket.py\", line 669, in readinto\n",
      "    return self._sock.recv_into(b)\n",
      "  File \"/home/joaofonseca/miniconda3/envs/ship-detection/lib/python3.8/ssl.py\", line 1241, in recv_into\n",
      "    return self.read(nbytes, buffer)\n",
      "  File \"/home/joaofonseca/miniconda3/envs/ship-detection/lib/python3.8/ssl.py\", line 1099, in read\n",
      "    return self._sslobj.read(len, buffer)\n",
      "ConnectionResetError: [Errno 104] Connection reset by peer\n",
      "\n",
      "During handling of the above exception, another exception occurred:\n",
      "\n",
      "Traceback (most recent call last):\n",
      "  File \"/home/joaofonseca/miniconda3/envs/ship-detection/lib/python3.8/site-packages/requests/models.py\", line 816, in generate\n",
      "    yield from self.raw.stream(chunk_size, decode_content=True)\n",
      "  File \"/home/joaofonseca/miniconda3/envs/ship-detection/lib/python3.8/site-packages/urllib3/response.py\", line 627, in stream\n",
      "    data = self.read(amt=amt, decode_content=decode_content)\n",
      "  File \"/home/joaofonseca/miniconda3/envs/ship-detection/lib/python3.8/site-packages/urllib3/response.py\", line 592, in read\n",
      "    raise IncompleteRead(self._fp_bytes_read, self.length_remaining)\n",
      "  File \"/home/joaofonseca/miniconda3/envs/ship-detection/lib/python3.8/contextlib.py\", line 131, in __exit__\n",
      "    self.gen.throw(type, value, traceback)\n",
      "  File \"/home/joaofonseca/miniconda3/envs/ship-detection/lib/python3.8/site-packages/urllib3/response.py\", line 460, in _error_catcher\n",
      "    raise ProtocolError(\"Connection broken: %r\" % e, e)\n",
      "urllib3.exceptions.ProtocolError: (\"Connection broken: ConnectionResetError(104, 'Connection reset by peer')\", ConnectionResetError(104, 'Connection reset by peer'))\n",
      "\n",
      "During handling of the above exception, another exception occurred:\n",
      "\n",
      "Traceback (most recent call last):\n",
      "  File \"/home/joaofonseca/miniconda3/envs/ship-detection/lib/python3.8/site-packages/sentinelsat/download.py\", line 700, in _download_online_retry\n",
      "    return self.download(uuid, directory, stop_event=stop_event)\n",
      "  File \"/home/joaofonseca/miniconda3/envs/ship-detection/lib/python3.8/site-packages/sentinelsat/download.py\", line 150, in download\n",
      "    self._download_common(product_info, path, stop_event)\n",
      "  File \"/home/joaofonseca/miniconda3/envs/ship-detection/lib/python3.8/site-packages/sentinelsat/download.py\", line 218, in _download_common\n",
      "    product_info[\"downloaded_bytes\"] = self._download(\n",
      "  File \"/home/joaofonseca/miniconda3/envs/ship-detection/lib/python3.8/site-packages/sentinelsat/download.py\", line 750, in _download\n",
      "    chunk = next(iterator)\n",
      "  File \"/home/joaofonseca/miniconda3/envs/ship-detection/lib/python3.8/site-packages/requests/models.py\", line 818, in generate\n",
      "    raise ChunkedEncodingError(e)\n",
      "requests.exceptions.ChunkedEncodingError: (\"Connection broken: ConnectionResetError(104, 'Connection reset by peer')\", ConnectionResetError(104, 'Connection reset by peer'))\n"
     ]
    },
    {
     "data": {
      "application/vnd.jupyter.widget-view+json": {
       "model_id": "757ec3becad940479e06679e26b3dc7a",
       "version_major": 2,
       "version_minor": 0
      },
      "text/plain": [
       "Downloading S1A_IW_RAW__0SDV_20220902T064331_20220902T064403_044822_055A5E_A7A0.zip:  19%|#9        | 323M/1.6…"
      ]
     },
     "metadata": {},
     "output_type": "display_data"
    },
    {
     "data": {
      "application/vnd.jupyter.widget-view+json": {
       "model_id": "",
       "version_major": 2,
       "version_minor": 0
      },
      "text/plain": [
       "MD5 checksumming:   0%|          | 0.00/353M [00:00<?, ?B/s]"
      ]
     },
     "metadata": {},
     "output_type": "display_data"
    },
    {
     "name": "stderr",
     "output_type": "stream",
     "text": [
      "Invalid checksum. The downloaded file for 'S1A_IW_RAW__0SDV_20220902T064331_20220902T064403_044822_055A5E_A7A0' is corrupted.\n"
     ]
    },
    {
     "data": {
      "application/vnd.jupyter.widget-view+json": {
       "model_id": "d6d5531c96284678861135f139e2cbfb",
       "version_major": 2,
       "version_minor": 0
      },
      "text/plain": [
       "Downloading S1A_IW_RAW__0SDV_20220902T064331_20220902T064403_044822_055A5E_A7A0.zip:   0%|          | 0.00/1.6…"
      ]
     },
     "metadata": {},
     "output_type": "display_data"
    },
    {
     "name": "stderr",
     "output_type": "stream",
     "text": [
      "There was an error downloading S1A_IW_RAW__0SDV_20220902T064331_20220902T064403_044822_055A5E_A7A0\n",
      "Traceback (most recent call last):\n",
      "  File \"/home/joaofonseca/miniconda3/envs/ship-detection/lib/python3.8/site-packages/urllib3/response.py\", line 443, in _error_catcher\n",
      "    yield\n",
      "  File \"/home/joaofonseca/miniconda3/envs/ship-detection/lib/python3.8/site-packages/urllib3/response.py\", line 566, in read\n",
      "    data = self._fp_read(amt) if not fp_closed else b\"\"\n",
      "  File \"/home/joaofonseca/miniconda3/envs/ship-detection/lib/python3.8/site-packages/urllib3/response.py\", line 532, in _fp_read\n",
      "    return self._fp.read(amt) if amt is not None else self._fp.read()\n",
      "  File \"/home/joaofonseca/miniconda3/envs/ship-detection/lib/python3.8/http/client.py\", line 459, in read\n",
      "    n = self.readinto(b)\n",
      "  File \"/home/joaofonseca/miniconda3/envs/ship-detection/lib/python3.8/http/client.py\", line 503, in readinto\n",
      "    n = self.fp.readinto(b)\n",
      "  File \"/home/joaofonseca/miniconda3/envs/ship-detection/lib/python3.8/socket.py\", line 669, in readinto\n",
      "    return self._sock.recv_into(b)\n",
      "  File \"/home/joaofonseca/miniconda3/envs/ship-detection/lib/python3.8/ssl.py\", line 1241, in recv_into\n",
      "    return self.read(nbytes, buffer)\n",
      "  File \"/home/joaofonseca/miniconda3/envs/ship-detection/lib/python3.8/ssl.py\", line 1099, in read\n",
      "    return self._sslobj.read(len, buffer)\n",
      "ConnectionResetError: [Errno 104] Connection reset by peer\n",
      "\n",
      "During handling of the above exception, another exception occurred:\n",
      "\n",
      "Traceback (most recent call last):\n",
      "  File \"/home/joaofonseca/miniconda3/envs/ship-detection/lib/python3.8/site-packages/requests/models.py\", line 816, in generate\n",
      "    yield from self.raw.stream(chunk_size, decode_content=True)\n",
      "  File \"/home/joaofonseca/miniconda3/envs/ship-detection/lib/python3.8/site-packages/urllib3/response.py\", line 627, in stream\n",
      "    data = self.read(amt=amt, decode_content=decode_content)\n",
      "  File \"/home/joaofonseca/miniconda3/envs/ship-detection/lib/python3.8/site-packages/urllib3/response.py\", line 592, in read\n",
      "    raise IncompleteRead(self._fp_bytes_read, self.length_remaining)\n",
      "  File \"/home/joaofonseca/miniconda3/envs/ship-detection/lib/python3.8/contextlib.py\", line 131, in __exit__\n",
      "    self.gen.throw(type, value, traceback)\n",
      "  File \"/home/joaofonseca/miniconda3/envs/ship-detection/lib/python3.8/site-packages/urllib3/response.py\", line 460, in _error_catcher\n",
      "    raise ProtocolError(\"Connection broken: %r\" % e, e)\n",
      "urllib3.exceptions.ProtocolError: (\"Connection broken: ConnectionResetError(104, 'Connection reset by peer')\", ConnectionResetError(104, 'Connection reset by peer'))\n",
      "\n",
      "During handling of the above exception, another exception occurred:\n",
      "\n",
      "Traceback (most recent call last):\n",
      "  File \"/home/joaofonseca/miniconda3/envs/ship-detection/lib/python3.8/site-packages/sentinelsat/download.py\", line 700, in _download_online_retry\n",
      "    return self.download(uuid, directory, stop_event=stop_event)\n",
      "  File \"/home/joaofonseca/miniconda3/envs/ship-detection/lib/python3.8/site-packages/sentinelsat/download.py\", line 150, in download\n",
      "    self._download_common(product_info, path, stop_event)\n",
      "  File \"/home/joaofonseca/miniconda3/envs/ship-detection/lib/python3.8/site-packages/sentinelsat/download.py\", line 218, in _download_common\n",
      "    product_info[\"downloaded_bytes\"] = self._download(\n",
      "  File \"/home/joaofonseca/miniconda3/envs/ship-detection/lib/python3.8/site-packages/sentinelsat/download.py\", line 750, in _download\n",
      "    chunk = next(iterator)\n",
      "  File \"/home/joaofonseca/miniconda3/envs/ship-detection/lib/python3.8/site-packages/requests/models.py\", line 818, in generate\n",
      "    raise ChunkedEncodingError(e)\n",
      "requests.exceptions.ChunkedEncodingError: (\"Connection broken: ConnectionResetError(104, 'Connection reset by peer')\", ConnectionResetError(104, 'Connection reset by peer'))\n"
     ]
    },
    {
     "data": {
      "application/vnd.jupyter.widget-view+json": {
       "model_id": "2879d7a9501a40d58b70be190dddd6b8",
       "version_major": 2,
       "version_minor": 0
      },
      "text/plain": [
       "Downloading S1A_IW_RAW__0SDV_20220902T064331_20220902T064403_044822_055A5E_A7A0.zip:   1%|1         | 21.0M/1.…"
      ]
     },
     "metadata": {},
     "output_type": "display_data"
    },
    {
     "data": {
      "application/vnd.jupyter.widget-view+json": {
       "model_id": "",
       "version_major": 2,
       "version_minor": 0
      },
      "text/plain": [
       "MD5 checksumming:   0%|          | 0.00/1.66G [00:00<?, ?B/s]"
      ]
     },
     "metadata": {},
     "output_type": "display_data"
    },
    {
     "data": {
      "text/plain": [
       "ResultTuple(downloaded={'5b91defe-0e9c-4328-9b28-3ef058a97268': {'id': '5b91defe-0e9c-4328-9b28-3ef058a97268', 'title': 'S1A_IW_RAW__0SDV_20220902T064331_20220902T064403_044822_055A5E_A7A0', 'size': 1662657436, 'md5': '89224f228d3bef0e1c8952cbf62557e4', 'date': datetime.datetime(2022, 9, 2, 6, 43, 31, 486000), 'footprint': 'POLYGON((-10.8641 39.5551,-11.2628 37.6003,-8.4987 37.3300,-8.0230 39.2833,-10.8641 39.5551,-10.8641 39.5551))', 'url': \"https://apihub.copernicus.eu/apihub/odata/v1/Products('5b91defe-0e9c-4328-9b28-3ef058a97268')/$value\", 'Online': True, 'Creation Date': datetime.datetime(2022, 9, 2, 7, 36, 9, 270000), 'Ingestion Date': datetime.datetime(2022, 9, 2, 7, 35, 40, 482000), 'quicklook_url': \"https://apihub.copernicus.eu/apihub/odata/v1/Products('5b91defe-0e9c-4328-9b28-3ef058a97268')/Products('Quicklook')/$value\", 'path': 'S1A_IW_RAW__0SDV_20220902T064331_20220902T064403_044822_055A5E_A7A0.zip', 'downloaded_bytes': 1641685916}}, retrieval_triggered={}, failed={})"
      ]
     },
     "execution_count": 24,
     "metadata": {},
     "output_type": "execute_result"
    }
   ],
   "source": [
    "# sort and select products\n",
    "products_df_sorted = products_df.sort_values(['ingestiondate'], ascending=True).iloc[:1]\n",
    "\n",
    "# download sorted and reduced products\n",
    "api.download_all(products_df_sorted.index, directory_path=filepath)\n"
   ]
  },
  {
   "cell_type": "code",
   "execution_count": 37,
   "id": "4c2f879e",
   "metadata": {},
   "outputs": [],
   "source": [
    "# unzip product\n",
    "with zipfile.ZipFile(os.path.join(filepath, products_df_sorted.iloc[0].title+\".zip\"), 'r') as zip_ref:\n",
    "    zip_ref.extractall(filepath)"
   ]
  }
 ],
 "metadata": {
  "kernelspec": {
   "display_name": "Python 3 (ipykernel)",
   "language": "python",
   "name": "python3"
  },
  "language_info": {
   "codemirror_mode": {
    "name": "ipython",
    "version": 3
   },
   "file_extension": ".py",
   "mimetype": "text/x-python",
   "name": "python",
   "nbconvert_exporter": "python",
   "pygments_lexer": "ipython3",
   "version": "3.8.13"
  }
 },
 "nbformat": 4,
 "nbformat_minor": 5
}
