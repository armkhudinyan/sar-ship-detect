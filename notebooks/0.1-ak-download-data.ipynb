{
 "cells": [
  {
   "cell_type": "code",
   "execution_count": 1,
   "metadata": {},
   "outputs": [],
   "source": [
    "from sentinelsat import SentinelAPI, read_geojson, geojson_to_wkt\n",
    "from datetime import date\n",
    "from getpass import getpass\n",
    "from pathlib import Path\n",
    "import geopandas as gpd\n",
    "from shapely.geometry import Polygon"
   ]
  },
  {
   "cell_type": "code",
   "execution_count": 2,
   "metadata": {},
   "outputs": [
    {
     "name": "stdout",
     "output_type": "stream",
     "text": [
      "user: joaofonseca\n",
      "password: ········\n"
     ]
    }
   ],
   "source": [
    "# connect to the API\n",
    "api = SentinelAPI(input('user: '), getpass('password: '), 'https://apihub.copernicus.eu/apihub')"
   ]
  },
  {
   "cell_type": "code",
   "execution_count": 3,
   "metadata": {},
   "outputs": [],
   "source": [
    "\n",
    "lat_list = [ 25.578848,  27.059566,  27.472921,  25.995016,  25.578848]\n",
    "lon_list = [-15.385184, -15.063815, -17.591578, -17.880167, -15.385184]\n",
    "\n",
    "polygon_geom = Polygon(zip(lon_list, lat_list))\n",
    "crs = 'epsg:4326'\n",
    "polygon = gpd.GeoDataFrame(index=[0], crs=crs, geometry=[polygon_geom])  \n",
    "\n",
    "json_dir = '../assets/test_polygon.geojson'\n",
    "polygon.to_file(filename=json_dir, driver='GeoJSON')\n",
    "# polygon.to_file(filename='polygon.shp', driver=\"ESRI Shapefile\")"
   ]
  },
  {
   "cell_type": "code",
   "execution_count": 4,
   "metadata": {},
   "outputs": [],
   "source": [
    "footprint = geojson_to_wkt(read_geojson(json_dir))\n",
    "products = api.query(footprint,\n",
    "                     producttype='GRD',\n",
    "                     orbitdirection='DESCENDING',\n",
    "                     date = ('20221005', date(2022, 10, 7)),\n",
    "                     limit=10)"
   ]
  },
  {
   "cell_type": "code",
   "execution_count": 5,
   "metadata": {},
   "outputs": [
    {
     "name": "stdout",
     "output_type": "stream",
     "text": [
      "Product ID 418d5f53-f90a-4124-b2ce-0a685c1b54d7\n"
     ]
    },
    {
     "data": {
      "application/vnd.jupyter.widget-view+json": {
       "model_id": "493dfe314db748f692469dfbc8bb3c93",
       "version_major": 2,
       "version_minor": 0
      },
      "text/plain": [
       "Downloading S1A_IW_GRDH_1SDV_20221006T070325_20221006T070349_045318_056B02_53E7.zip:   0%|          | 0.00/753…"
      ]
     },
     "metadata": {},
     "output_type": "display_data"
    },
    {
     "data": {
      "application/vnd.jupyter.widget-view+json": {
       "model_id": "",
       "version_major": 2,
       "version_minor": 0
      },
      "text/plain": [
       "MD5 checksumming:   0%|          | 0.00/753M [00:00<?, ?B/s]"
      ]
     },
     "metadata": {},
     "output_type": "display_data"
    },
    {
     "data": {
      "text/plain": [
       "{'id': '418d5f53-f90a-4124-b2ce-0a685c1b54d7',\n",
       " 'title': 'S1A_IW_GRDH_1SDV_20221006T070325_20221006T070349_045318_056B02_53E7',\n",
       " 'size': 752671268,\n",
       " 'md5': '73e8a26a4595eb4e1d8f44d898440250',\n",
       " 'date': datetime.datetime(2022, 10, 6, 7, 3, 25, 125000),\n",
       " 'footprint': 'POLYGON((-15.385184 25.578848,-17.880167 25.995016,-17.591578 27.472921,-15.063815 27.059566,-15.385184 25.578848))',\n",
       " 'url': \"https://apihub.copernicus.eu/apihub/odata/v1/Products('418d5f53-f90a-4124-b2ce-0a685c1b54d7')/$value\",\n",
       " 'Online': True,\n",
       " 'Creation Date': datetime.datetime(2022, 10, 6, 7, 43, 8, 15000),\n",
       " 'Ingestion Date': datetime.datetime(2022, 10, 6, 7, 42, 51, 829000),\n",
       " 'quicklook_url': \"https://apihub.copernicus.eu/apihub/odata/v1/Products('418d5f53-f90a-4124-b2ce-0a685c1b54d7')/Products('Quicklook')/$value\",\n",
       " 'path': '../assets/products/S1A_IW_GRDH_1SDV_20221006T070325_20221006T070349_045318_056B02_53E7.zip',\n",
       " 'downloaded_bytes': 752671268}"
      ]
     },
     "execution_count": 5,
     "metadata": {},
     "output_type": "execute_result"
    }
   ],
   "source": [
    "# download single scene by known product id\n",
    "product_id = list(products.keys())[1]\n",
    "print('Product ID', product_id)\n",
    "out_dir = Path('../assets/products/')\n",
    "# Download all products found by query\n",
    "# api.download_all(products)\n",
    "# Download single product by id\n",
    "api.download(product_id, directory_path=out_dir)"
   ]
  },
  {
   "cell_type": "code",
   "execution_count": 6,
   "metadata": {},
   "outputs": [],
   "source": [
    "from zipfile import ZipFile\n",
    "\n",
    "# Unzip the S1 product\n",
    "with ZipFile(list(Path(out_dir).glob('*.zip'))[0], 'r') as s1_product:\n",
    "    s1_product.extractall(out_dir)"
   ]
  }
 ],
 "metadata": {
  "kernelspec": {
   "display_name": "Python 3 (ipykernel)",
   "language": "python",
   "name": "python3"
  },
  "language_info": {
   "codemirror_mode": {
    "name": "ipython",
    "version": 3
   },
   "file_extension": ".py",
   "mimetype": "text/x-python",
   "name": "python",
   "nbconvert_exporter": "python",
   "pygments_lexer": "ipython3",
   "version": "3.10.6"
  },
  "vscode": {
   "interpreter": {
    "hash": "0b59051bcaeb812df31cba7d3b628328acc1bda2256323301b99f04bb22b8ab0"
   }
  }
 },
 "nbformat": 4,
 "nbformat_minor": 2
}
