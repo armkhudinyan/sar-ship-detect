{
 "cells": [
  {
   "cell_type": "code",
   "execution_count": 12,
   "id": "371140ce",
   "metadata": {},
   "outputs": [],
   "source": [
    "import os\n",
    "import sys\n",
    "import rasterio\n",
    "import xarray as xr\n",
    "\n",
    "sys.path.append(\"..\")"
   ]
  },
  {
   "cell_type": "code",
   "execution_count": 5,
   "id": "8a50940b",
   "metadata": {},
   "outputs": [],
   "source": [
    "# note: one of the dependencies needs to be installed via conda-forge: cartopy\n",
    "#from src.sentinel_1.pre_process_grd import s1_load"
   ]
  },
  {
   "cell_type": "code",
   "execution_count": 6,
   "id": "7e3c826b",
   "metadata": {},
   "outputs": [],
   "source": [
    "products_path = os.path.join(\"..\", \"assets\", \"products\")\n",
    "products_list = [x for x in os.listdir(products_path) if x.endswith(\".SAFE\")]"
   ]
  },
  {
   "cell_type": "code",
   "execution_count": 14,
   "id": "de5a7de8",
   "metadata": {},
   "outputs": [
    {
     "name": "stdout",
     "output_type": "stream",
     "text": [
      "../assets/products/S1A_IW_RAW__0SDV_20220902T064331_20220902T064403_044822_055A5E_A7A0.SAFE\n"
     ]
    },
    {
     "data": {
      "text/plain": [
       "['S1A_IW_RAW__0SDV_20220902T064331_20220902T064403_044822_055A5E_A7A0.SAFE-report-20220902T072038.pdf',\n",
       " 'manifest.safe',\n",
       " 's1a-iw-raw-s-vh-20220902t064331-20220902t064403-044822-055a5e-annot.dat',\n",
       " 's1a-iw-raw-s-vh-20220902t064331-20220902t064403-044822-055a5e-index.dat',\n",
       " 's1a-iw-raw-s-vh-20220902t064331-20220902t064403-044822-055a5e.dat',\n",
       " 's1a-iw-raw-s-vv-20220902t064331-20220902t064403-044822-055a5e-annot.dat',\n",
       " 's1a-iw-raw-s-vv-20220902t064331-20220902t064403-044822-055a5e-index.dat',\n",
       " 's1a-iw-raw-s-vv-20220902t064331-20220902t064403-044822-055a5e.dat',\n",
       " 'support']"
      ]
     },
     "execution_count": 14,
     "metadata": {},
     "output_type": "execute_result"
    }
   ],
   "source": [
    "# Select the first product for the example\n",
    "product_name = products_list[0].split(\".\")[0]\n",
    "product_path = os.path.join(products_path, products_list[0])\n",
    "print(product_path)\n",
    "os.listdir(product_path)"
   ]
  },
  {
   "cell_type": "code",
   "execution_count": 8,
   "id": "b6d1712f",
   "metadata": {},
   "outputs": [
    {
     "data": {
      "text/plain": [
       "<function str.endswith>"
      ]
     },
     "execution_count": 8,
     "metadata": {},
     "output_type": "execute_result"
    }
   ],
   "source": [
    "product_name.endswith"
   ]
  },
  {
   "cell_type": "code",
   "execution_count": 9,
   "id": "a5aca41c",
   "metadata": {},
   "outputs": [
    {
     "data": {
      "text/plain": [
       "['../assets/products/S1A_IW_RAW__0SDV_20220902T064331_20220902T064403_044822_055A5E_A7A0.SAFE/s1a-iw-raw-s-vh-20220902t064331-20220902t064403-044822-055a5e.dat',\n",
       " '../assets/products/S1A_IW_RAW__0SDV_20220902T064331_20220902T064403_044822_055A5E_A7A0.SAFE/s1a-iw-raw-s-vv-20220902t064331-20220902t064403-044822-055a5e.dat']"
      ]
     },
     "execution_count": 9,
     "metadata": {},
     "output_type": "execute_result"
    }
   ],
   "source": [
    "rasters_path = [\n",
    "    os.path.join(product_path, x) \n",
    "    for x in os.listdir(product_path) \n",
    "    if x.endswith(\".dat\") \n",
    "    and not (x.endswith(\"-annot.dat\") or x.endswith(\"-index.dat\"))\n",
    "]\n",
    "rasters_path"
   ]
  },
  {
   "cell_type": "code",
   "execution_count": 13,
   "id": "53d2d18a",
   "metadata": {},
   "outputs": [
    {
     "ename": "ValueError",
     "evalue": "query='.//s1sarl1:instrumentMode/s1sarl1:mode' returned None",
     "output_type": "error",
     "traceback": [
      "\u001b[0;31m---------------------------------------------------------------------------\u001b[0m",
      "\u001b[0;31mValueError\u001b[0m                                Traceback (most recent call last)",
      "Cell \u001b[0;32mIn [13], line 1\u001b[0m\n\u001b[0;32m----> 1\u001b[0m \u001b[43mxr\u001b[49m\u001b[38;5;241;43m.\u001b[39;49m\u001b[43mopen_dataset\u001b[49m\u001b[43m(\u001b[49m\u001b[43mproduct_path\u001b[49m\u001b[43m,\u001b[49m\u001b[43m \u001b[49m\u001b[43mengine\u001b[49m\u001b[38;5;241;43m=\u001b[39;49m\u001b[38;5;124;43m\"\u001b[39;49m\u001b[38;5;124;43msentinel-1\u001b[39;49m\u001b[38;5;124;43m\"\u001b[39;49m\u001b[43m)\u001b[49m\n",
      "File \u001b[0;32m~/miniconda3/envs/ship-detection/lib/python3.8/site-packages/xarray/backends/api.py:539\u001b[0m, in \u001b[0;36mopen_dataset\u001b[0;34m(filename_or_obj, engine, chunks, cache, decode_cf, mask_and_scale, decode_times, decode_timedelta, use_cftime, concat_characters, decode_coords, drop_variables, inline_array, backend_kwargs, **kwargs)\u001b[0m\n\u001b[1;32m    527\u001b[0m decoders \u001b[38;5;241m=\u001b[39m _resolve_decoders_kwargs(\n\u001b[1;32m    528\u001b[0m     decode_cf,\n\u001b[1;32m    529\u001b[0m     open_backend_dataset_parameters\u001b[38;5;241m=\u001b[39mbackend\u001b[38;5;241m.\u001b[39mopen_dataset_parameters,\n\u001b[0;32m   (...)\u001b[0m\n\u001b[1;32m    535\u001b[0m     decode_coords\u001b[38;5;241m=\u001b[39mdecode_coords,\n\u001b[1;32m    536\u001b[0m )\n\u001b[1;32m    538\u001b[0m overwrite_encoded_chunks \u001b[38;5;241m=\u001b[39m kwargs\u001b[38;5;241m.\u001b[39mpop(\u001b[38;5;124m\"\u001b[39m\u001b[38;5;124moverwrite_encoded_chunks\u001b[39m\u001b[38;5;124m\"\u001b[39m, \u001b[38;5;28;01mNone\u001b[39;00m)\n\u001b[0;32m--> 539\u001b[0m backend_ds \u001b[38;5;241m=\u001b[39m \u001b[43mbackend\u001b[49m\u001b[38;5;241;43m.\u001b[39;49m\u001b[43mopen_dataset\u001b[49m\u001b[43m(\u001b[49m\n\u001b[1;32m    540\u001b[0m \u001b[43m    \u001b[49m\u001b[43mfilename_or_obj\u001b[49m\u001b[43m,\u001b[49m\n\u001b[1;32m    541\u001b[0m \u001b[43m    \u001b[49m\u001b[43mdrop_variables\u001b[49m\u001b[38;5;241;43m=\u001b[39;49m\u001b[43mdrop_variables\u001b[49m\u001b[43m,\u001b[49m\n\u001b[1;32m    542\u001b[0m \u001b[43m    \u001b[49m\u001b[38;5;241;43m*\u001b[39;49m\u001b[38;5;241;43m*\u001b[39;49m\u001b[43mdecoders\u001b[49m\u001b[43m,\u001b[49m\n\u001b[1;32m    543\u001b[0m \u001b[43m    \u001b[49m\u001b[38;5;241;43m*\u001b[39;49m\u001b[38;5;241;43m*\u001b[39;49m\u001b[43mkwargs\u001b[49m\u001b[43m,\u001b[49m\n\u001b[1;32m    544\u001b[0m \u001b[43m\u001b[49m\u001b[43m)\u001b[49m\n\u001b[1;32m    545\u001b[0m ds \u001b[38;5;241m=\u001b[39m _dataset_from_backend_dataset(\n\u001b[1;32m    546\u001b[0m     backend_ds,\n\u001b[1;32m    547\u001b[0m     filename_or_obj,\n\u001b[0;32m   (...)\u001b[0m\n\u001b[1;32m    555\u001b[0m     \u001b[38;5;241m*\u001b[39m\u001b[38;5;241m*\u001b[39mkwargs,\n\u001b[1;32m    556\u001b[0m )\n\u001b[1;32m    557\u001b[0m \u001b[38;5;28;01mreturn\u001b[39;00m ds\n",
      "File \u001b[0;32m~/miniconda3/envs/ship-detection/lib/python3.8/site-packages/xarray_sentinel/xarray_backends.py:22\u001b[0m, in \u001b[0;36mSentinel1Backend.open_dataset\u001b[0;34m(self, filename_or_obj, drop_variables, group, storage_options, override_product_files, fs, check_files_exist, parse_geospatial_attrs)\u001b[0m\n\u001b[1;32m     11\u001b[0m \u001b[38;5;28;01mdef\u001b[39;00m \u001b[38;5;21mopen_dataset\u001b[39m(  \u001b[38;5;66;03m# type: ignore\u001b[39;00m\n\u001b[1;32m     12\u001b[0m     \u001b[38;5;28mself\u001b[39m,\n\u001b[1;32m     13\u001b[0m     filename_or_obj: \u001b[38;5;28mstr\u001b[39m,\n\u001b[0;32m   (...)\u001b[0m\n\u001b[1;32m     20\u001b[0m     parse_geospatial_attrs: \u001b[38;5;28mbool\u001b[39m \u001b[38;5;241m=\u001b[39m \u001b[38;5;28;01mTrue\u001b[39;00m,\n\u001b[1;32m     21\u001b[0m ) \u001b[38;5;241m-\u001b[39m\u001b[38;5;241m>\u001b[39m xr\u001b[38;5;241m.\u001b[39mDataset:\n\u001b[0;32m---> 22\u001b[0m     ds \u001b[38;5;241m=\u001b[39m \u001b[43msentinel1\u001b[49m\u001b[38;5;241;43m.\u001b[39;49m\u001b[43mopen_sentinel1_dataset\u001b[49m\u001b[43m(\u001b[49m\n\u001b[1;32m     23\u001b[0m \u001b[43m        \u001b[49m\u001b[43mfilename_or_obj\u001b[49m\u001b[43m,\u001b[49m\n\u001b[1;32m     24\u001b[0m \u001b[43m        \u001b[49m\u001b[43mdrop_variables\u001b[49m\u001b[38;5;241;43m=\u001b[39;49m\u001b[43mdrop_variables\u001b[49m\u001b[43m,\u001b[49m\n\u001b[1;32m     25\u001b[0m \u001b[43m        \u001b[49m\u001b[43mgroup\u001b[49m\u001b[38;5;241;43m=\u001b[39;49m\u001b[43mgroup\u001b[49m\u001b[43m,\u001b[49m\n\u001b[1;32m     26\u001b[0m \u001b[43m        \u001b[49m\u001b[43mstorage_options\u001b[49m\u001b[38;5;241;43m=\u001b[39;49m\u001b[43mstorage_options\u001b[49m\u001b[43m,\u001b[49m\n\u001b[1;32m     27\u001b[0m \u001b[43m        \u001b[49m\u001b[43moverride_product_files\u001b[49m\u001b[38;5;241;43m=\u001b[39;49m\u001b[43moverride_product_files\u001b[49m\u001b[43m,\u001b[49m\n\u001b[1;32m     28\u001b[0m \u001b[43m        \u001b[49m\u001b[43mfs\u001b[49m\u001b[38;5;241;43m=\u001b[39;49m\u001b[43mfs\u001b[49m\u001b[43m,\u001b[49m\n\u001b[1;32m     29\u001b[0m \u001b[43m        \u001b[49m\u001b[43mcheck_files_exist\u001b[49m\u001b[38;5;241;43m=\u001b[39;49m\u001b[43mcheck_files_exist\u001b[49m\u001b[43m,\u001b[49m\n\u001b[1;32m     30\u001b[0m \u001b[43m        \u001b[49m\u001b[43mparse_geospatial_attrs\u001b[49m\u001b[38;5;241;43m=\u001b[39;49m\u001b[43mparse_geospatial_attrs\u001b[49m\u001b[43m,\u001b[49m\n\u001b[1;32m     31\u001b[0m \u001b[43m    \u001b[49m\u001b[43m)\u001b[49m\n\u001b[1;32m     32\u001b[0m     \u001b[38;5;28;01mreturn\u001b[39;00m ds\n",
      "File \u001b[0;32m~/miniconda3/envs/ship-detection/lib/python3.8/site-packages/xarray_sentinel/sentinel1.py:932\u001b[0m, in \u001b[0;36mopen_sentinel1_dataset\u001b[0;34m(product_urlpath, drop_variables, group, fs, storage_options, check_files_exist, override_product_files, parse_geospatial_attrs)\u001b[0m\n\u001b[1;32m    929\u001b[0m product_path \u001b[38;5;241m=\u001b[39m os\u001b[38;5;241m.\u001b[39mpath\u001b[38;5;241m.\u001b[39mdirname(manifest_path)\n\u001b[1;32m    931\u001b[0m \u001b[38;5;28;01mwith\u001b[39;00m fs\u001b[38;5;241m.\u001b[39mopen(manifest_path) \u001b[38;5;28;01mas\u001b[39;00m file:\n\u001b[0;32m--> 932\u001b[0m     common_attrs, product_files \u001b[38;5;241m=\u001b[39m \u001b[43mesa_safe\u001b[49m\u001b[38;5;241;43m.\u001b[39;49m\u001b[43mparse_manifest_sentinel1\u001b[49m\u001b[43m(\u001b[49m\u001b[43mfile\u001b[49m\u001b[43m)\u001b[49m\n\u001b[1;32m    934\u001b[0m \u001b[38;5;28;01mif\u001b[39;00m override_product_files:\n\u001b[1;32m    935\u001b[0m     product_files \u001b[38;5;241m=\u001b[39m do_override_product_files(override_product_files, product_files)\n",
      "File \u001b[0;32m~/miniconda3/envs/ship-detection/lib/python3.8/site-packages/xarray_sentinel/esa_safe.py:118\u001b[0m, in \u001b[0;36mparse_manifest_sentinel1\u001b[0;34m(manifest_path)\u001b[0m\n\u001b[1;32m    115\u001b[0m     \u001b[38;5;28;01mraise\u001b[39;00m \u001b[38;5;167;01mValueError\u001b[39;00m(\u001b[38;5;124mf\u001b[39m\u001b[38;5;124m\"\u001b[39m\u001b[38;5;132;01m{\u001b[39;00mfamily_name\u001b[38;5;132;01m=}\u001b[39;00m\u001b[38;5;124m not supported\u001b[39m\u001b[38;5;124m\"\u001b[39m)\n\u001b[1;32m    117\u001b[0m number \u001b[38;5;241m=\u001b[39m findtext(manifest, \u001b[38;5;124m\"\u001b[39m\u001b[38;5;124m.//safe:platform/safe:number\u001b[39m\u001b[38;5;124m\"\u001b[39m)\n\u001b[0;32m--> 118\u001b[0m mode \u001b[38;5;241m=\u001b[39m \u001b[43mfindtext\u001b[49m\u001b[43m(\u001b[49m\u001b[43mmanifest\u001b[49m\u001b[43m,\u001b[49m\u001b[43m \u001b[49m\u001b[38;5;124;43m\"\u001b[39;49m\u001b[38;5;124;43m.//s1sarl1:instrumentMode/s1sarl1:mode\u001b[39;49m\u001b[38;5;124;43m\"\u001b[39;49m\u001b[43m)\u001b[49m\n\u001b[1;32m    119\u001b[0m swaths \u001b[38;5;241m=\u001b[39m findall(manifest, \u001b[38;5;124m\"\u001b[39m\u001b[38;5;124m.//s1sarl1:instrumentMode/s1sarl1:swath\u001b[39m\u001b[38;5;124m\"\u001b[39m)\n\u001b[1;32m    121\u001b[0m orbit_number \u001b[38;5;241m=\u001b[39m findall(manifest, \u001b[38;5;124m\"\u001b[39m\u001b[38;5;124m.//safe:orbitNumber\u001b[39m\u001b[38;5;124m\"\u001b[39m)\n",
      "File \u001b[0;32m~/miniconda3/envs/ship-detection/lib/python3.8/site-packages/xarray_sentinel/esa_safe.py:79\u001b[0m, in \u001b[0;36mfindtext\u001b[0;34m(tree, query, namespaces)\u001b[0m\n\u001b[1;32m     77\u001b[0m value \u001b[38;5;241m=\u001b[39m tree\u001b[38;5;241m.\u001b[39mfindtext(query, namespaces\u001b[38;5;241m=\u001b[39mnamespaces)\n\u001b[1;32m     78\u001b[0m \u001b[38;5;28;01mif\u001b[39;00m value \u001b[38;5;129;01mis\u001b[39;00m \u001b[38;5;28;01mNone\u001b[39;00m:\n\u001b[0;32m---> 79\u001b[0m     \u001b[38;5;28;01mraise\u001b[39;00m \u001b[38;5;167;01mValueError\u001b[39;00m(\u001b[38;5;124mf\u001b[39m\u001b[38;5;124m\"\u001b[39m\u001b[38;5;132;01m{\u001b[39;00mquery\u001b[38;5;132;01m=}\u001b[39;00m\u001b[38;5;124m returned None\u001b[39m\u001b[38;5;124m\"\u001b[39m)\n\u001b[1;32m     80\u001b[0m \u001b[38;5;28;01mreturn\u001b[39;00m value\n",
      "\u001b[0;31mValueError\u001b[0m: query='.//s1sarl1:instrumentMode/s1sarl1:mode' returned None"
     ]
    }
   ],
   "source": [
    "xr.open_dataset(product_path, engine=\"sentinel-1\")"
   ]
  }
 ],
 "metadata": {
  "kernelspec": {
   "display_name": "Python 3 (ipykernel)",
   "language": "python",
   "name": "python3"
  },
  "language_info": {
   "codemirror_mode": {
    "name": "ipython",
    "version": 3
   },
   "file_extension": ".py",
   "mimetype": "text/x-python",
   "name": "python",
   "nbconvert_exporter": "python",
   "pygments_lexer": "ipython3",
   "version": "3.8.13"
  }
 },
 "nbformat": 4,
 "nbformat_minor": 5
}
