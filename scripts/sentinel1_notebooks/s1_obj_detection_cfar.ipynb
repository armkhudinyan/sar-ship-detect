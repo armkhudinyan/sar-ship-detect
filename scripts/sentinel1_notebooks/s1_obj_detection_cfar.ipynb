{
 "cells": [
  {
   "cell_type": "code",
   "execution_count": 2,
   "metadata": {},
   "outputs": [],
   "source": [
    "from pathlib import Path\n",
    "import numpy as np\n",
    "import rasterio as rio\n",
    "import sys\n",
    "sys.path.append('/home/mkhudinyan/GitHub/sar_ship_detect/scripts')\n",
    "from geotransform_utils import GCPs2GeoTransform\n",
    "from filters import lee_filter\n",
    "from cfar import CA_CFAR"
   ]
  },
  {
   "cell_type": "code",
   "execution_count": 3,
   "metadata": {},
   "outputs": [],
   "source": [
    "grd_prod_path = Path('../../data/sentinel1/SentinelAPI/S1A_IW_GRDH_1SDV_20221006T070325_20221006T070349_045318_056B02_53E7.SAFE/measurement/')\n",
    "src = rio.open(list(grd_prod_path.glob('*cal*.tiff'))[0])"
   ]
  },
  {
   "cell_type": "markdown",
   "metadata": {},
   "source": [
    "#### CFAR object detection analysis"
   ]
  },
  {
   "cell_type": "code",
   "execution_count": 5,
   "metadata": {},
   "outputs": [],
   "source": [
    "calibrated_im = src.read(1)[:5000, :5000]\n",
    "prediction = CA_CFAR(calibrated_im, (12,12,1,1), 1e-5)"
   ]
  },
  {
   "cell_type": "code",
   "execution_count": 13,
   "metadata": {},
   "outputs": [],
   "source": [
    "from scipy.ndimage import label, find_objects\n",
    "\n",
    "labels, _ = label(prediction)"
   ]
  },
  {
   "cell_type": "code",
   "execution_count": 43,
   "metadata": {},
   "outputs": [],
   "source": [
    "transform = src.meta['transform']"
   ]
  },
  {
   "cell_type": "code",
   "execution_count": 39,
   "metadata": {},
   "outputs": [],
   "source": [
    "dest = Path('../../data/sentinel1/SentinelAPI/S1A_IW_GRDH_1SDV_20221006T070325_20221006T070349_045318_056B02_53E7.SAFE/SHIPS/ship_cfar.shp')\n",
    "dest.parent.mkdir(parents=True, exist_ok=True)\n",
    "raster2shape(prediction, dest, transform)"
   ]
  },
  {
   "cell_type": "code",
   "execution_count": 38,
   "metadata": {},
   "outputs": [],
   "source": []
  }
 ],
 "metadata": {
  "kernelspec": {
   "display_name": "Python 3.10.6 ('xarray')",
   "language": "python",
   "name": "python3"
  },
  "language_info": {
   "codemirror_mode": {
    "name": "ipython",
    "version": 3
   },
   "file_extension": ".py",
   "mimetype": "text/x-python",
   "name": "python",
   "nbconvert_exporter": "python",
   "pygments_lexer": "ipython3",
   "version": "3.10.6"
  },
  "orig_nbformat": 4,
  "vscode": {
   "interpreter": {
    "hash": "138daa3a6fbb1ee949a0b87d537b65b2608af3f12a089caf3ff08dd7af8fb8a7"
   }
  }
 },
 "nbformat": 4,
 "nbformat_minor": 2
}
