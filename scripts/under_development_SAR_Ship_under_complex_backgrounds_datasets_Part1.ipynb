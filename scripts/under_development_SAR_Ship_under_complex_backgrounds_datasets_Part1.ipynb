{
 "cells": [
  {
   "cell_type": "markdown",
   "metadata": {},
   "source": [
    "#### SAR Ship dataset\n",
    "[Data](https://github.com/ChrisYang/SAR-Ship-Dataset)\\\n",
    "[Article](https://doi.org/10.3390/rs11070765)"
   ]
  },
  {
   "cell_type": "code",
   "execution_count": 2,
   "metadata": {},
   "outputs": [],
   "source": [
    "import os\n",
    "\n",
    "import numpy as np \n",
    "import pandas as pd \n",
    "from collections import Counter\n",
    "from os.path import join\n",
    "from matplotlib import pyplot as plt\n",
    "from mpl_toolkits.mplot3d import Axes3D\n",
    "import pylab\n",
    "import cv2\n",
    "import glob\n",
    "\n",
    "from utils import bbox_draw, im_resize\n",
    "%matplotlib inline"
   ]
  },
  {
   "cell_type": "code",
   "execution_count": 3,
   "metadata": {},
   "outputs": [],
   "source": [
    "PATH = r'C:\\Users\\arman\\Documents\\GitHub\\sar_ship_detect'\n",
    "#data_path = join(os. getcwd(), '..','data', 'Iceberg-classifier-challenge')\n",
    "data_path = join(PATH, 'data', 'ship_SAR_datasets_Part1', 'JPGImages')\n",
    "target_path_xml = join(PATH, 'data', 'ship_SAR_datasets_Part1', 'Annotations')\n",
    "target_path_txt = join(PATH, 'data', 'ship_SAR_datasets_Part1', 'ground_truth')"
   ]
  },
  {
   "cell_type": "code",
   "execution_count": 5,
   "metadata": {
    "scrolled": false
   },
   "outputs": [
    {
     "data": {
      "text/plain": [
       "(11796, 11796, 11795)"
      ]
     },
     "execution_count": 5,
     "metadata": {},
     "output_type": "execute_result"
    }
   ],
   "source": [
    "len(os.listdir(data_path)), len(os.listdir(target_path_xml)), len(os.listdir(target_path_txt))"
   ]
  },
  {
   "cell_type": "markdown",
   "metadata": {},
   "source": [
    "### Load the data\n",
    "Read the '.jpg' data as numpy 2d array"
   ]
  },
  {
   "cell_type": "code",
   "execution_count": 152,
   "metadata": {},
   "outputs": [
    {
     "name": "stdout",
     "output_type": "stream",
     "text": [
      " 11796 / 11796 , C:\\Users\\arman\\Documents\\GitHub\\sar_ship_detect\\data\\ship_SAR_datasets_Part1\\JPGImages\\ship0201801260207016.jpgg\n",
      "1 potatos\n"
     ]
    }
   ],
   "source": [
    "# load the images and convert to nd.array with Pillow\n",
    "from PIL import Image, UnidentifiedImageError\n",
    "import sys\n",
    "\n",
    "search_data = \"*.jpg\"\n",
    "querie = join(data_path, search_data)\n",
    "image_paths = glob.glob(querie)\n",
    "\n",
    "images = []\n",
    "im_errors = []\n",
    "i = 0\n",
    "for image in image_paths:\n",
    "    # the daset contains buggy images \n",
    "    try:\n",
    "        im = Image.open(image)\n",
    "        im_array = np.asarray(im)[:,:,0] # keep only the first band, as all the 3 are same\n",
    "        images.append(im_array)\n",
    "        im.close()\n",
    "        del im_array\n",
    "    except UnidentifiedImageError:\n",
    "        # get the id's for errors in order to filter the labels (.xml)\n",
    "        im_errors.append(image.split('\\\\')[-1].replace('.jpg', '.xml')) \n",
    "        \n",
    "    \n",
    "    i +=1\n",
    "    sys.stdout.write(f\"\\r {i} / {len(image_paths)} , {image.split(\"\\\")[-1]}\")\n",
    "    sys.stdout.flush() \n",
    "print(f'\\n{len(im_errors)} potatos')   \n",
    "\n",
    "# stuck the data\n",
    "data = np.array(images)"
   ]
  },
  {
   "cell_type": "markdown",
   "metadata": {},
   "source": [
    "#####checking that all bands contain the same information\n",
    "image = Image.open(image_paths[3])\n",
    "im_array = np.asarray(image)\n",
    "b1 = im_array[:,:,0].flatten()\n",
    "b2 = im_array[:,:,1].flatten()\n",
    "b3 = im_array[:,:,2].flatten()\n",
    "b1.shape == b2.shape == b3.shape"
   ]
  },
  {
   "cell_type": "markdown",
   "metadata": {},
   "source": [
    "## Run this code once as it produces .txt files from .xml annotations and saves in a folder\n",
    "### Todo: Make a softcoded list intersection\n",
    "bofore running the code there is a need to create an empty `ground_truth` folder in the same directory where the `Annotation` is"
   ]
  },
  {
   "cell_type": "code",
   "execution_count": 196,
   "metadata": {},
   "outputs": [
    {
     "name": "stdout",
     "output_type": "stream",
     "text": [
      " 11794 / 11795 , C:\\Users\\arman\\Documents\\GitHub\\sar_ship_detect\\data\\ship_SAR_datasets_Part1\\Annotations\\ship0201801260207016.xmll"
     ]
    }
   ],
   "source": [
    "from xml.dom.minidom import parse, parseString\n",
    "\n",
    "# get target paths\n",
    "target_paths = glob.glob(f\"{target_path}/*.xml\")\n",
    "\n",
    "# exclude the annotationfor not loaded image\n",
    "target_paths = [path for path in target_paths if not path.split('\\\\')[-1] in im_errors]\n",
    "\n",
    "for index in range(0, len(target_paths)):\n",
    "    path = target_paths[index]\n",
    "    gt_path = path.replace('Annotations', 'ground_truth').replace('.xml', '.txt')\n",
    "    with open(gt_path, 'w') as f1:\n",
    "        dom1 = parse(path)  # parse an XML file by name\n",
    "\n",
    "        itemlist = dom1.getElementsByTagName('object')\n",
    "        bboxes = []\n",
    "        for item in itemlist:\n",
    "            bbox_node = item.getElementsByTagName('bndbox')\n",
    "            xmin = bbox_node[0].getElementsByTagName('xmin')[0].firstChild.nodeValue\n",
    "            ymin = bbox_node[0].getElementsByTagName('ymin')[0].firstChild.nodeValue\n",
    "            xmax = bbox_node[0].getElementsByTagName('xmax')[0].firstChild.nodeValue\n",
    "            ymax = bbox_node[0].getElementsByTagName('ymax')[0].firstChild.nodeValue\n",
    "            f1.write(f\"Ship {int(xmin)} {int(ymin)} {int(xmax) - int(xmin)} {int(ymax) - int(ymin)}\\n\")\n",
    "            bboxes.append([int(xmin), int(ymin), int(xmax) - int(xmin), int(ymax) - int(ymin)])\n",
    "        \n",
    "        sys.stdout.write(f\"\\r {index} / {len(target_paths)} , {path}\")\n",
    "        sys.stdout.flush() "
   ]
  },
  {
   "cell_type": "markdown",
   "metadata": {},
   "source": [
    "the information on the .txt file is provided as follows:\n",
    "`xmin`, `ymin`, `h`, `w`, **(shluld be checked while plotting)**"
   ]
  },
  {
   "cell_type": "markdown",
   "metadata": {},
   "source": [
    "#### The Original SAR Image Dataset\n",
    "\n",
    "There are 102 `Gaofen-3` images and 108 `Sentinel-1` images that were used to construct the dataset. For Gaofen-3, the images have resolutions of `3 m, 5 m, 8 m, and 10 m`. For Sentinel-1, the imaging modes are `3.6-4,9m and 20-22m`. Details of these images, including resolution, incidence angle, and polarization obviously vary widely. \\\n",
    "From the data visualization can be seen that the dataset has been doublicated by augmentation"
   ]
  },
  {
   "cell_type": "code",
   "execution_count": 172,
   "metadata": {},
   "outputs": [
    {
     "data": {
      "text/plain": [
       "<matplotlib.image.AxesImage at 0x274a63d7fc8>"
      ]
     },
     "execution_count": 172,
     "metadata": {},
     "output_type": "execute_result"
    },
    {
     "data": {
      "text/plain": [
       "<Figure size 432x288 with 0 Axes>"
      ]
     },
     "metadata": {},
     "output_type": "display_data"
    },
    {
     "data": {
      "image/png": "[encoded data removed]",
      "text/plain": [
       "<Figure size 1080x1080 with 8 Axes>"
      ]
     },
     "metadata": {
      "needs_background": "light"
     },
     "output_type": "display_data"
    }
   ],
   "source": [
    "# define functions for vizualization \n",
    "    \n",
    "plt.figure()\n",
    "\n",
    "#subplot(r,c) provide the no. of rows and columns\n",
    "f, axarr = plt.subplots(2,4, figsize=(15, 15)) \n",
    "\n",
    "# use the created array to output your multiple images. In this case I have stacked 4 images vertically\n",
    "axarr[0,0].imshow(images[0], cmap='gray')\n",
    "axarr[0,1].imshow(images[1], cmap='gray')  \n",
    "axarr[0,2].imshow(images[2], cmap='gray')\n",
    "axarr[0,3].imshow(images[3], cmap='gray') \n",
    "axarr[1,0].imshow(images[4], cmap='gray')\n",
    "axarr[1,1].imshow(images[5], cmap='gray') \n",
    "axarr[1,2].imshow(images[6], cmap='gray')\n",
    "axarr[1,3].imshow(images[7], cmap='gray')"
   ]
  },
  {
   "cell_type": "markdown",
   "metadata": {},
   "source": [
    "### Policies for Construction of the Ship Detection Dataset\n",
    "The procedure for the dataset construction considers the following steps. First, all SAR images are converted to `sigma0` values. Second, candidate subimages containing ships with sizes greater than 800 pixels in both range and azimuth are cropped. Third, sliding windows from these candidate subimages are used to acquire ship chips `256 × 256 pixels` in size. To enrich the backgrounds of the ships, `128 pixels are shifted over both columns and lines` during the sliding window, leading to 50% overlap of adjacent ship chips. To mark the ship position, these ship chips are converted to gray images. Each ship chip corresponds to an Extensible Markup Language (XML) file indicating the **ship location, the ship chip name, and the image shape**."
   ]
  },
  {
   "cell_type": "markdown",
   "metadata": {},
   "source": [
    "![ship chip label description](images/ship_label_description.png)"
   ]
  },
  {
   "cell_type": "markdown",
   "metadata": {},
   "source": [
    "#### Loading annotation from txt files"
   ]
  },
  {
   "cell_type": "code",
   "execution_count": 150,
   "metadata": {},
   "outputs": [
    {
     "name": "stdout",
     "output_type": "stream",
     "text": [
      "Loading annotations\n",
      " 11795 / 11795 , ['Ship', '2', '73', '35', '21']']]]"
     ]
    }
   ],
   "source": [
    " # load the image annotations\n",
    "\n",
    "search_data = \"*.txt\"\n",
    "querie = join(target_path_txt, search_data)\n",
    "annot_paths = glob.glob(querie)\n",
    "\n",
    "annot = []\n",
    "\n",
    "i = 0\n",
    "print('Loading annotations')   \n",
    "for annotation in annot_paths:\n",
    "    label = open(annotation, 'r',encoding=\"UTF8\").readline().split(\"\\n\")[0].split(\" \")\n",
    "    annot.append(label)\n",
    "\n",
    "    i +=1\n",
    "    sys.stdout.write(f\"\\r {i} / {len(annot_paths)} , {label}\")\n",
    "    sys.stdout.flush() "
   ]
  },
  {
   "cell_type": "code",
   "execution_count": 151,
   "metadata": {},
   "outputs": [
    {
     "data": {
      "text/plain": [
       "name\n",
       "Ship    11795\n",
       "dtype: int64"
      ]
     },
     "execution_count": 151,
     "metadata": {},
     "output_type": "execute_result"
    }
   ],
   "source": [
    "# make a dataframe for bbox info\n",
    "df_annot = pd.DataFrame(annot, columns=['name', 'xmax', 'ymin', 'width', 'height'])\n",
    "df_annot.groupby('name').size()"
   ]
  },
  {
   "cell_type": "markdown",
   "metadata": {},
   "source": [
    "### plot the bbox"
   ]
  },
  {
   "cell_type": "code",
   "execution_count": 166,
   "metadata": {},
   "outputs": [
    {
     "data": {
      "text/plain": [
       "<Figure size 432x288 with 0 Axes>"
      ]
     },
     "metadata": {},
     "output_type": "display_data"
    },
    {
     "data": {
      "image/png": "[encoded data removed]",
      "text/plain": [
       "<Figure size 360x360 with 1 Axes>"
      ]
     },
     "metadata": {
      "needs_background": "light"
     },
     "output_type": "display_data"
    }
   ],
   "source": [
    "from matplotlib import patches\n",
    "\n",
    "plt.figure()\n",
    "\n",
    "#subplot(r,c) provide the no. of rows and columns\n",
    "f, ax = plt.subplots(1, figsize=(5,5)) \n",
    "ax.imshow(data[20],cmap=\"gray\")\n",
    "ax.set_title('bbox around the ship')\n",
    "\n",
    "# Create a Rectangle patch\n",
    "#Rectangle((left,upper),width,height))\n",
    "rect = patches.Rectangle(\n",
    "        (int(annot[20][1]), int(annot[20][2])), # upper_left,\n",
    "        int(annot[20][3]), int(annot[20][4]),   # width, height,\n",
    "        linewidth=0.9,\n",
    "        edgecolor='y',\n",
    "        facecolor='none'\n",
    ")\n",
    "# Add the patch to the Axes\n",
    "ax.add_patch(rect)\n",
    "plt.show()"
   ]
  }
 ],
 "metadata": {
  "kernelspec": {
   "display_name": "Python 3",
   "language": "python",
   "name": "python3"
  },
  "language_info": {
   "codemirror_mode": {
    "name": "ipython",
    "version": 3
   },
   "file_extension": ".py",
   "mimetype": "text/x-python",
   "name": "python",
   "nbconvert_exporter": "python",
   "pygments_lexer": "ipython3",
   "version": "3.7.6"
  }
 },
 "nbformat": 4,
 "nbformat_minor": 4
}
