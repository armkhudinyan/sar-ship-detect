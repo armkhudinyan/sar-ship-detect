{
 "cells": [
  {
   "cell_type": "markdown",
   "metadata": {},
   "source": [
    "### CNN for pixel-wise ship detection¶on Sentinel 1 image\n",
    "\n",
    "The image is resized from 10m to 40m resolution images considering the S1 GRD image resolution over the open ocean.  \n",
    "The analysis are carried with bot CNN model and CA-CFAR algorithm"
   ]
  },
  {
   "cell_type": "code",
   "execution_count": 1,
   "metadata": {},
   "outputs": [
    {
     "name": "stderr",
     "output_type": "stream",
     "text": [
      "Using TensorFlow backend.\n"
     ]
    }
   ],
   "source": [
    "#NOTE: The TF/Keras libraries are throwing a conflict and causing for the  \n",
    "#      terminal to die if they are loaded after calling openCV library\n",
    "from matplotlib import pyplot\n",
    "from keras.preprocessing.image import ImageDataGenerator\n",
    "from keras.models import Sequential, load_model\n",
    "from keras.layers import Conv2D, MaxPooling2D,UpSampling2D, Dense, Dropout, Input, Flatten, Activation, Reshape\n",
    "from keras.layers import GlobalMaxPooling2D\n",
    "from keras.layers.normalization import BatchNormalization\n",
    "from keras.layers.merge import Concatenate\n",
    "from keras.models import Model\n",
    "from keras import initializers\n",
    "from keras.optimizers import Adam, SGD, RMSprop\n",
    "from keras.callbacks import ModelCheckpoint, Callback, EarlyStopping\n",
    "from keras.metrics import binary_accuracy\n",
    "from sklearn.metrics import classification_report, confusion_matrix\n",
    "#import tensorflow_adons as tfa"
   ]
  },
  {
   "cell_type": "code",
   "execution_count": 2,
   "metadata": {
    "scrolled": true
   },
   "outputs": [],
   "source": [
    "import os\n",
    "import time\n",
    "\n",
    "import numpy as np \n",
    "import pandas as pd \n",
    "from collections import Counter\n",
    "from os.path import join\n",
    "from matplotlib import pyplot as plt\n",
    "from mpl_toolkits.mplot3d import Axes3D\n",
    "import rasterio as rio\n",
    "import glob\n",
    "import pylab\n",
    "import cv2\n",
    "%matplotlib inline\n",
    "\n",
    "import sys\n",
    "sys.path.append(r'C:\\Users\\arman\\Documents\\GitHub\\sar_ship_detect\\scripts')\n",
    "from utils import data_split, lee_filter, im_resize, bbox_draw, data_extractor, dB2natural\n",
    "from cfar import CA_CFAR\n",
    "from cnn_utils import SAR_ObjectDetect_CNN"
   ]
  },
  {
   "cell_type": "code",
   "execution_count": 3,
   "metadata": {},
   "outputs": [],
   "source": [
    "PATH = r'C:\\Users\\arman\\Documents\\GitHub\\sar_ship_detect'\n",
    "# Configs\n",
    "RADAR_PATH = join(PATH, 'data/SAR_test/test1019')\n",
    "OUT_PATH = RADAR_PATH"
   ]
  },
  {
   "cell_type": "code",
   "execution_count": 9,
   "metadata": {
    "scrolled": false
   },
   "outputs": [
    {
     "name": "stdout",
     "output_type": "stream",
     "text": [
      "driver                                                   GTiff\n",
      "dtype                                                  float32\n",
      "nodata                                                    None\n",
      "width                                                    29475\n",
      "height                                                   12379\n",
      "count                                                        1\n",
      "crs                                                     (init)\n",
      "transform    (8.983152841195215e-05, 0.0, 3.826463784235514...\n",
      "dtype: object \n",
      " driver                                                   GTiff\n",
      "dtype                                                  float32\n",
      "nodata                                                    None\n",
      "width                                                    29475\n",
      "height                                                   12379\n",
      "count                                                        1\n",
      "crs                                                     (init)\n",
      "transform    (8.983152841195215e-05, 0.0, 3.826463784235514...\n",
      "dtype: object\n"
     ]
    }
   ],
   "source": [
    "radar_dB = glob.glob(join(RADAR_PATH, '*dB*'))[0]\n",
    "angle_im = glob.glob(join(RADAR_PATH, '*angle*'))[0]\n",
    "\n",
    "src_dB = rio.open(radar_dB)\n",
    "src_angle = rio.open(angle_im)\n",
    "Window = (80, 80)\n",
    "\n",
    "# get the dimencions for cropping the image\n",
    "height, width = (src_dB.shape[0]//Window[0])*Window[0], (src_dB.shape[1]//Window[1])*Window[1]\n",
    "\n",
    "print(pd.Series(src_dB.meta),'\\n',pd.Series(src_angle.meta))\n",
    "\n",
    "VV_dB = src_dB.read(1)[:height, :width]\n",
    "VV_natural = dB2natural(VV_dB)\n",
    "angle = src_angle.read(1)[:height, :width]"
   ]
  },
  {
   "cell_type": "markdown",
   "metadata": {},
   "source": [
    "### Buiding the Model"
   ]
  },
  {
   "cell_type": "code",
   "execution_count": 10,
   "metadata": {},
   "outputs": [],
   "source": [
    "# Deschesne ship detection model\n",
    "def deschesne_model():\n",
    "    model = Sequential()\n",
    "    \n",
    "    # conv block 1\n",
    "    model.add(Conv2D(128, kernel_size=(3,3), activation='relu', padding='same', input_shape=(80,80,2)))\n",
    "    model.add(Conv2D(256, kernel_size=(3,3), activation='relu', padding='same'))\n",
    "    model.add(MaxPooling2D((2,2))) # does this make 80x80 => 40x40 ?\n",
    "    model.add(Dropout(0.1))\n",
    "    \n",
    "    # conv block 2\n",
    "    model.add(Conv2D(256, kernel_size=(3,3), activation='relu', padding='same'))\n",
    "    model.add(Conv2D(512, kernel_size=(3,3), activation='relu', padding='same'))\n",
    "    model.add(MaxPooling2D((2,2))) # image size: 80x80 => 40x40\n",
    "    model.add(Dropout(0.1))\n",
    "              \n",
    "    # conv block 3\n",
    "    model.add(Conv2D(512, kernel_size=(3,3), activation='relu', padding='same'))\n",
    "    model.add(Conv2D(512, kernel_size=(3,3), activation='relu', padding='same'))\n",
    "    model.add(Conv2D(64, kernel_size=(3,3), activation='relu', padding='same'))\n",
    "    \n",
    "    #Flatten the data for upcoming dense layers\n",
    "    #model.add(Flatten())\n",
    "    # fully connected block 1\n",
    "    #model.add(Dense(64))\n",
    "    \n",
    "    # conv block 4\n",
    "    model.add(Conv2D(64, kernel_size=(3,3), activation='relu', padding='same'))\n",
    "    # reshape the tensor vector indo NxN for passing into Conv2D\n",
    "    #model.add(Reshape((20,20), input_shape=(12,)))\n",
    "    model.add(UpSampling2D(size=(2,2)))\n",
    "    model.add(Dropout(0.1))\n",
    "              \n",
    "    # conv block 4\n",
    "    model.add(Conv2D(64, kernel_size=(3,3), activation='relu', padding='same'))\n",
    "    model.add(Conv2D(64, kernel_size=(3,3), activation='relu', padding='same'))\n",
    "    model.add(UpSampling2D(size=(2,2)))\n",
    "    model.add(Dropout(0.1))\n",
    "              \n",
    "    # output Layer\n",
    "    model.add(Conv2D(1, kernel_size=(3,3), activation='sigmoid', padding='same'))  \n",
    "    \n",
    "    # compile model\n",
    "    #mypotim = SGD(lr=0.01, momentum=0.9)\n",
    "    #mypotim=Adam(lr=0.001, beta_1=0.9, beta_2=0.999, epsilon=1e-08, decay=0.0)\n",
    "    mypotim = RMSprop(lr=0.001)\n",
    "    model.compile(loss='binary_crossentropy', #'sparse_categorical_crossentropy',  \n",
    "                  optimizer=mypotim,\n",
    "                  metrics=['accuracy'])                     \n",
    "    model.summary()\n",
    "    return model\n",
    "\n",
    "\n",
    "def get_callbacks(filepath, patience=2):\n",
    "    es = EarlyStopping('val_loss', patience=patience, mode=\"min\")\n",
    "    msave = ModelCheckpoint(filepath, save_best_only=True)\n",
    "    return [es, msave]\n",
    "\n",
    "# save the best weights\n",
    "#weights_path = \".model_weights_Deschesne_pixel_wise.hdf5\"\n",
    "weights_path = join(PATH, 'model_weights', '.Deschesne_pixel_wise_res_80.hdf5')\n",
    "callbacks = get_callbacks(filepath=weights_path, patience=4) # increased the \"patience\""
   ]
  },
  {
   "cell_type": "code",
   "execution_count": 11,
   "metadata": {},
   "outputs": [],
   "source": [
    "# load the model\n",
    "gmodel = load_model(weights_path)"
   ]
  },
  {
   "cell_type": "markdown",
   "metadata": {},
   "source": [
    "#in case of using iterative function per image chip\n",
    "SAR_ObjectDetect_CNN(nrcs=VV_natural, inc_angle=angle, cnn_model=gmodel, window=Window)"
   ]
  },
  {
   "cell_type": "code",
   "execution_count": 12,
   "metadata": {},
   "outputs": [],
   "source": [
    "# resize and crop the image to fit exactly with window size\n",
    "VV_natural = im_resize(VV_natural, (7360, 3080), interpolation=cv2.INTER_NEAREST)[:3040, :7360]\n",
    "angle = im_resize(angle, (7360, 3080), interpolation=cv2.INTER_NEAREST)[:3040, :7360]"
   ]
  },
  {
   "cell_type": "markdown",
   "metadata": {},
   "source": [
    "### Object detection with CNN"
   ]
  },
  {
   "cell_type": "code",
   "execution_count": 13,
   "metadata": {},
   "outputs": [],
   "source": [
    "window = (80,80)\n",
    "y, x = window\n",
    "out_VV = []\n",
    "out_angle = []\n",
    "\n",
    "for i in range(0, VV_natural.shape[0], y):\n",
    "    j_num = []\n",
    "    for j in range(0, VV_natural.shape[1], x):\n",
    "        # get the window to apply the complete chain of analysis\n",
    "        sub_image_VV = VV_natural[i:i+y, j:j+x]\n",
    "        sub_image_angle = angle[i:i+y, j:j+x]\n",
    "        out_VV.append(sub_image_VV)\n",
    "        out_angle.append(sub_image_angle)\n",
    "        \n",
    "array_vv = np.array(out_VV)\n",
    "array_angle = np.array(out_angle)\n",
    "test_data = np.concatenate([array_vv[:, :, :, np.newaxis], array_angle[:, :, :, np.newaxis]], axis=-1)"
   ]
  },
  {
   "cell_type": "code",
   "execution_count": 14,
   "metadata": {},
   "outputs": [
    {
     "name": "stdout",
     "output_type": "stream",
     "text": [
      "3496/3496 [==============================] - 1075s 307ms/step\n"
     ]
    }
   ],
   "source": [
    "y_pred_class = gmodel.predict_classes(test_data, batch_size=64, verbose=1) # batch_size=64, verbose=1"
   ]
  },
  {
   "cell_type": "code",
   "execution_count": 15,
   "metadata": {},
   "outputs": [],
   "source": [
    "y_pred_class = y_pred_class.squeeze()\n",
    "width = y_pred_class.shape[0]//(VV_natural.shape[0]//y)\n",
    "sar_classified = np.vstack([np.hstack(y_pred_class[i:i+width]) for i in range(0, y_pred_class.shape[0], width)])"
   ]
  },
  {
   "cell_type": "code",
   "execution_count": 113,
   "metadata": {},
   "outputs": [
    {
     "data": {
      "text/plain": [
       "array([[2760, 7328]], dtype=int64)"
      ]
     },
     "execution_count": 113,
     "metadata": {},
     "output_type": "execute_result"
    }
   ],
   "source": [
    "# randomly choose an object for ploting\n",
    "pred_objects = np.argwhere(sar_classified==1)\n",
    "rand_ind = np.random.choice(pred_objects.shape[0], size=1, replace=False)\n",
    "ind = pred_objects[random_indices]\n",
    "ind"
   ]
  },
  {
   "cell_type": "code",
   "execution_count": 114,
   "metadata": {},
   "outputs": [],
   "source": [
    "def chip_extractor(image, index, size=20):\n",
    "    return image[index[0]-size:index[0]+size, index[1]-size:index[1]+size]"
   ]
  },
  {
   "cell_type": "markdown",
   "metadata": {},
   "source": [
    "### Object detection with CA-CFAR"
   ]
  },
  {
   "cell_type": "code",
   "execution_count": 18,
   "metadata": {},
   "outputs": [],
   "source": [
    "# Define parameters for CFAR\n",
    "params = [10, 10, 1, 1]\n",
    "P_fa = 10e-4\n",
    "\n",
    "detedt_cfar = CA_CFAR(VV_natural, params, P_fa)"
   ]
  },
  {
   "cell_type": "code",
   "execution_count": 22,
   "metadata": {},
   "outputs": [
    {
     "data": {
      "text/plain": [
       "(4491, 2)"
      ]
     },
     "execution_count": 22,
     "metadata": {},
     "output_type": "execute_result"
    }
   ],
   "source": [
    "np.argwhere(detedt_cfar.astype('int')==1).shape"
   ]
  },
  {
   "cell_type": "code",
   "execution_count": 118,
   "metadata": {},
   "outputs": [
    {
     "data": {
      "text/plain": [
       "Text(0.5, 1.0, 'CFAR prediction')"
      ]
     },
     "execution_count": 118,
     "metadata": {},
     "output_type": "execute_result"
    },
    {
     "data": {
      "text/plain": [
       "<Figure size 432x288 with 0 Axes>"
      ]
     },
     "metadata": {},
     "output_type": "display_data"
    },
    {
     "data": {
      "image/png": "[encoded data removed]",
      "text/plain": [
       "<Figure size 720x720 with 3 Axes>"
      ]
     },
     "metadata": {
      "needs_background": "light"
     },
     "output_type": "display_data"
    }
   ],
   "source": [
    "# visualize images\n",
    "plt.figure()\n",
    "\n",
    "#subplot(r,c) provide the no. of rows and columns\n",
    "f, axarr = plt.subplots(1,3, figsize=(10, 10)) \n",
    "\n",
    "# use the created array to output your multiple images. \n",
    "axarr[0].imshow(chip_extractor(VV_natural, ind[0]))\n",
    "axarr[0].set_title('radar data')\n",
    "axarr[1].imshow(chip_extractor(sar_classified, ind[0]))  \n",
    "axarr[1].set_title('CNN prediction')\n",
    "axarr[2].imshow(chip_extractor(detedt_cfar,ind[0]))  \n",
    "axarr[2].set_title('CFAR prediction')"
   ]
  },
  {
   "cell_type": "code",
   "execution_count": 71,
   "metadata": {},
   "outputs": [
    {
     "data": {
      "text/plain": [
       "Text(0.5, 1.0, 'CFAR prediction')"
      ]
     },
     "execution_count": 71,
     "metadata": {},
     "output_type": "execute_result"
    },
    {
     "data": {
      "text/plain": [
       "<Figure size 432x288 with 0 Axes>"
      ]
     },
     "metadata": {},
     "output_type": "display_data"
    },
    {
     "data": {
      "image/png": "[encoded data removed]",
      "text/plain": [
       "<Figure size 720x720 with 3 Axes>"
      ]
     },
     "metadata": {
      "needs_background": "light"
     },
     "output_type": "display_data"
    }
   ],
   "source": [
    "# visualize images\n",
    "plt.figure()\n",
    "\n",
    "#subplot(r,c) provide the no. of rows and columns\n",
    "f, axarr = plt.subplots(1,3, figsize=(10, 10)) \n",
    "\n",
    "# use the created array to output your multiple images. \n",
    "axarr[0].imshow(chip_extractor(VV_natural, ind[0]))\n",
    "axarr[0].set_title('radar data')\n",
    "axarr[1].imshow(chip_extractor(sar_classified, ind[0]))  \n",
    "axarr[1].set_title('CNN prediction')\n",
    "axarr[2].imshow(chip_extractor(detedt_cfar, ind[0]))  \n",
    "axarr[2].set_title('CFAR prediction')"
   ]
  }
 ],
 "metadata": {
  "kernelspec": {
   "display_name": "Python 3",
   "language": "python",
   "name": "python3"
  },
  "language_info": {
   "codemirror_mode": {
    "name": "ipython",
    "version": 3
   },
   "file_extension": ".py",
   "mimetype": "text/x-python",
   "name": "python",
   "nbconvert_exporter": "python",
   "pygments_lexer": "ipython3",
   "version": "3.7.10"
  }
 },
 "nbformat": 4,
 "nbformat_minor": 4
}
