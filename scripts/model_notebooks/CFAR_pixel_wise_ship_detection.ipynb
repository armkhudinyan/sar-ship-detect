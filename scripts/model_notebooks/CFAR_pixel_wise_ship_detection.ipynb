{
 "cells": [
  {
   "cell_type": "markdown",
   "metadata": {},
   "source": [
    "## Cell-Aaverage Constant False Alarm Rate for pixel-wise ship detection\n",
    "\n",
    "CA-CFAR model from the article: [Object Detection with Automotive Radar Sensors using CFAR Algorithms](https://www.jku.at/fileadmin/gruppen/183/Docs/Finished_Theses/Bachelor_Thesis_Katzlberger_final.pdf)\n",
    "\n",
    "Dataset can be aqcuired [here:](https://gitlab.com/sarmaps/sar-ship-dataset), and the pre-processing description [here:](https://ieeexplore.ieee.org/document/7729017/algorithms?tabFilter=dataset#algorithms)\n"
   ]
  },
  {
   "cell_type": "code",
   "execution_count": null,
   "metadata": {},
   "outputs": [],
   "source": [
    "import os\n",
    "from os.path import join\n",
    "import numpy as np \n",
    "import pandas as pd \n",
    "from scipy import signal\n",
    "from collections import Counter\n",
    "from sklearn.metrics import classification_report, confusion_matrix\n",
    "from matplotlib import pyplot as plt\n",
    "%matplotlib inline\n",
    "import time\n",
    "\n",
    "import sys\n",
    "sys.path.append('/home/mkhudinyan/GitHub/sar_ship_detect/scripts')\n",
    "from utils import bbox_draw, data_extractor\n",
    "from cfar import CA_CFAR, OS_CFAR"
   ]
  },
  {
   "cell_type": "code",
   "execution_count": 2,
   "metadata": {},
   "outputs": [],
   "source": [
    "PATH = '/home/mkhudinyan/GitHub/sar_ship_detect'\n",
    "#data_path = join(os. getcwd(), '..','data', 'Iceberg-classifier-challenge')\n",
    "data_path = join(PATH, 'data', 'very_deep_learn_data', 'json')"
   ]
  },
  {
   "cell_type": "code",
   "execution_count": 3,
   "metadata": {
    "scrolled": true
   },
   "outputs": [
    {
     "data": {
      "text/plain": [
       "['true_negatives.json', 'false_positives.json', 'ship_positives.json']"
      ]
     },
     "execution_count": 3,
     "metadata": {},
     "output_type": "execute_result"
    }
   ],
   "source": [
    "os.listdir(data_path)"
   ]
  },
  {
   "cell_type": "markdown",
   "metadata": {},
   "source": [
    "### Data Pre-processing\n",
    "###### As we carry a pixel-wise classification, we will pick up only the dataset containing ships `(ship_positives)`.\n",
    "\n",
    "Dataset presents 1596 ship containing SAR image chips from `Sentinel-1` (Extra Wide Swath) and `RADARSAT-2` sensors. "
   ]
  },
  {
   "cell_type": "code",
   "execution_count": 4,
   "metadata": {},
   "outputs": [
    {
     "name": "stdout",
     "output_type": "stream",
     "text": [
      "true_positives:  (1, 1596)\n"
     ]
    }
   ],
   "source": [
    "#Load the data.\n",
    "ship_positives = pd.read_json(join(data_path, 'ship_positives.json'))\n",
    "print('true_positives: ',ship_positives.shape)\n",
    "true_negative = pd.read_json(join(data_path, 'true_negatives.json'))"
   ]
  },
  {
   "cell_type": "code",
   "execution_count": 5,
   "metadata": {
    "scrolled": false
   },
   "outputs": [
    {
     "data": {
      "text/plain": [
       "dict_keys(['id', 'sensor', 'resolution', 'fullname', 'polarisation', 'incidenceangle', 'row', 'column', 'longitude', 'latitude', 'stats', 'R', 'nearest', 'pixelsize', 'patchfu', 'patchgt', 'windowfu', 'windowgt', 'validais', 'ais', 'aux'])"
      ]
     },
     "execution_count": 5,
     "metadata": {},
     "output_type": "execute_result"
    }
   ],
   "source": [
    "# the following information is provided for each of the ship data\n",
    "ship_positives[0][0].keys()"
   ]
  },
  {
   "cell_type": "code",
   "execution_count": 5,
   "metadata": {},
   "outputs": [
    {
     "data": {
      "text/plain": [
       "(HH    231\n",
       " HV    149\n",
       " VV    559\n",
       " VH    657\n",
       " dtype: int64,\n",
       " SEN1    1496\n",
       " RSAT     100\n",
       " dtype: int64)"
      ]
     },
     "execution_count": 5,
     "metadata": {},
     "output_type": "execute_result"
    }
   ],
   "source": [
    "# check the polarisation mode of the dataset\n",
    "pol = [ship_positives[i][0]['polarisation'] for i in range(ship_positives.size)]\n",
    "sen = [ship_positives[i][0]['sensor'] for i in range(ship_positives.size)]\n",
    "pd.Series(Counter(pol)), pd.Series(Counter(sen))\n"
   ]
  },
  {
   "cell_type": "code",
   "execution_count": 6,
   "metadata": {},
   "outputs": [
    {
     "data": {
      "text/plain": [
       "(101, 101)"
      ]
     },
     "execution_count": 6,
     "metadata": {},
     "output_type": "execute_result"
    }
   ],
   "source": [
    "# print SAR imahe chip size\n",
    "np.array(ship_positives[0][0]['patchgt']).shape"
   ]
  },
  {
   "cell_type": "code",
   "execution_count": 6,
   "metadata": {
    "scrolled": true
   },
   "outputs": [],
   "source": [
    "# dsize = (101, 101)\n",
    "\n",
    "# get true positive data\n",
    "data = ship_positive_data = data_extractor(ship_positives, 'patchfu') # patchfu-101 |windowfu -21\n",
    "# get the pixel based classes \n",
    "target = ship_positive_target = data_extractor(ship_positives, 'patchgt') # patchgt -101 |windowgt -21"
   ]
  },
  {
   "cell_type": "code",
   "execution_count": 8,
   "metadata": {},
   "outputs": [
    {
     "data": {
      "text/plain": [
       "((1596, 21, 21), (1596, 101, 101))"
      ]
     },
     "execution_count": 8,
     "metadata": {},
     "output_type": "execute_result"
    }
   ],
   "source": [
    "# patchfu\n",
    "data_extractor(ship_positives, 'windowfu').shape, data_extractor(ship_positives, 'patchfu').shape\n"
   ]
  },
  {
   "cell_type": "code",
   "execution_count": 9,
   "metadata": {},
   "outputs": [
    {
     "data": {
      "text/plain": [
       "<matplotlib.image.AxesImage at 0x7f5f81da1760>"
      ]
     },
     "execution_count": 9,
     "metadata": {},
     "output_type": "execute_result"
    },
    {
     "data": {
      "text/plain": [
       "<Figure size 432x288 with 0 Axes>"
      ]
     },
     "metadata": {},
     "output_type": "display_data"
    },
    {
     "data": {
      "image/png": "[encoded data removed]",
      "text/plain": [
       "<Figure size 720x720 with 3 Axes>"
      ]
     },
     "metadata": {
      "needs_background": "light"
     },
     "output_type": "display_data"
    }
   ],
   "source": [
    "patchfu = data_extractor(ship_positives, 'patchfu')[0]\n",
    "patchfu_21 = patchfu[patchfu.shape[0]//2 - 10 : patchfu.shape[0]//2 + 10,\n",
    "                     patchfu.shape[1]//2 - 10 : patchfu.shape[1]//2 + 10 ]\n",
    "# plt.imshow(data_extractor(ship_positives, 'patchfu')[0])\n",
    "plt.figure()\n",
    "\n",
    "#subplot(r,c) provide the no. of rows and columns\n",
    "f, axarr = plt.subplots(1,3, figsize=(10, 10)) \n",
    "\n",
    "# use the created array to output your multiple images. \n",
    "axarr[0].imshow(data_extractor(ship_positives, 'windowfu')[0])\n",
    "axarr[1].imshow(data_extractor(ship_positives, 'patchfu')[0])\n",
    "axarr[2].imshow(patchfu_21)  "
   ]
  },
  {
   "cell_type": "code",
   "execution_count": 15,
   "metadata": {},
   "outputs": [],
   "source": [
    "# Resize the images\n",
    "# dsize = (80, 80)\n",
    "# ship_positive_80 = np.array([im_resize(image, dsize, interpolation=cv2.INTER_NEAREST) for image in ship_positive_data])\n",
    "# target_80 = np.array([im_resize(image, dsize, interpolation=cv2.INTER_NEAREST ) for image in ship_positive_target])"
   ]
  },
  {
   "cell_type": "code",
   "execution_count": 13,
   "metadata": {},
   "outputs": [],
   "source": [
    "# renam the variables for the sake of ease\n",
    "# data = ship_positive_data\n",
    "# target = ship_positive_target"
   ]
  },
  {
   "cell_type": "code",
   "execution_count": 21,
   "metadata": {},
   "outputs": [
    {
     "name": "stdout",
     "output_type": "stream",
     "text": [
      "Data shape:\t (1596, 101, 101)\n",
      "Target shape:\t (1596, 101, 101)\n"
     ]
    }
   ],
   "source": [
    "print('Data shape:\\t', data.shape)\n",
    "print('Target shape:\\t',target.shape)"
   ]
  },
  {
   "cell_type": "markdown",
   "metadata": {},
   "source": [
    "### Data visualization"
   ]
  },
  {
   "cell_type": "code",
   "execution_count": 10,
   "metadata": {},
   "outputs": [
    {
     "data": {
      "text/plain": [
       "Text(0.5, 1.0, 'radar data')"
      ]
     },
     "execution_count": 10,
     "metadata": {},
     "output_type": "execute_result"
    },
    {
     "data": {
      "text/plain": [
       "<Figure size 432x288 with 0 Axes>"
      ]
     },
     "metadata": {},
     "output_type": "display_data"
    },
    {
     "data": {
      "image/png": "[encoded data removed]",
      "text/plain": [
       "<Figure size 720x720 with 3 Axes>"
      ]
     },
     "metadata": {
      "needs_background": "light"
     },
     "output_type": "display_data"
    }
   ],
   "source": [
    "# visualize image samples \n",
    "plt.figure()\n",
    "\n",
    "#subplot(r,c) provide the no. of rows and columns\n",
    "f, axarr = plt.subplots(1,3, figsize=(10, 10)) \n",
    "\n",
    "# use the created array to output your multiple images. \n",
    "axarr[0].imshow(data[1200,:,:])\n",
    "axarr[0].set_title('radar data')\n",
    "axarr[1].imshow(data[14,:,:])  \n",
    "axarr[1].set_title('radar data')\n",
    "axarr[2].imshow(data[43,:,:])\n",
    "axarr[2].set_title('radar data')"
   ]
  },
  {
   "cell_type": "code",
   "execution_count": 11,
   "metadata": {},
   "outputs": [
    {
     "data": {
      "text/plain": [
       "Text(0.5, 1.0, 'target data')"
      ]
     },
     "execution_count": 11,
     "metadata": {},
     "output_type": "execute_result"
    },
    {
     "data": {
      "text/plain": [
       "<Figure size 432x288 with 0 Axes>"
      ]
     },
     "metadata": {},
     "output_type": "display_data"
    },
    {
     "data": {
      "image/png": "[encoded data removed]",
      "text/plain": [
       "<Figure size 720x720 with 3 Axes>"
      ]
     },
     "metadata": {
      "needs_background": "light"
     },
     "output_type": "display_data"
    }
   ],
   "source": [
    "# visualize target samples\n",
    "plt.figure()\n",
    "\n",
    "#subplot(r,c) provide the no. of rows and columns\n",
    "f, axarr = plt.subplots(1,3, figsize=(10, 10)) \n",
    "\n",
    "axarr[0].imshow(target[1200,:,:], cmap=\"gray\") \n",
    "axarr[0].set_title('target data')\n",
    "axarr[1].imshow(target[14,:,:], cmap=\"gray\") \n",
    "axarr[1].set_title('target data')\n",
    "axarr[2].imshow(target[43,:,:], cmap=\"gray\") \n",
    "axarr[2].set_title('target data')"
   ]
  },
  {
   "cell_type": "markdown",
   "metadata": {},
   "source": [
    "### Run CA-CFAR analysis"
   ]
  },
  {
   "cell_type": "code",
   "execution_count": null,
   "metadata": {},
   "outputs": [],
   "source": [
    "# Define parameters for CFAR\n",
    "kernel_params = [[8, 8, 1, 1], [10, 10, 1, 1], [10, 10, 2, 2], [11, 11, 2, 2]]\n",
    "P_fa = [8e-4, 10e-4, 12e-4]\n",
    "labels = ['0-not ship', '1-ship']\n",
    "\n",
    "# detedt_cfar = np.array([CA_CFAR(image, params, P_fa) for image in data])"
   ]
  },
  {
   "cell_type": "code",
   "execution_count": null,
   "metadata": {},
   "outputs": [
    {
     "name": "stdout",
     "output_type": "stream",
     "text": [
      "P_fa: 0.0008\n",
      "#============\n",
      "Kernel size: [8, 8, 1, 1] runtime: 0.23 mins \n",
      "               precision    recall  f1-score   support\n",
      "\n",
      "  0-not ship       1.00      1.00      1.00  16255900\n",
      "      1-ship       0.26      0.72      0.38     24896\n",
      "\n",
      "    accuracy                           1.00  16280796\n",
      "   macro avg       0.63      0.86      0.69  16280796\n",
      "weighted avg       1.00      1.00      1.00  16280796\n",
      "\n",
      "#------------\n",
      "Kernel size: [10, 10, 1, 1] runtime: 0.37 mins \n",
      "               precision    recall  f1-score   support\n",
      "\n",
      "  0-not ship       1.00      1.00      1.00  16255900\n",
      "      1-ship       0.26      0.82      0.40     24896\n",
      "\n",
      "    accuracy                           1.00  16280796\n",
      "   macro avg       0.63      0.91      0.70  16280796\n",
      "weighted avg       1.00      1.00      1.00  16280796\n",
      "\n",
      "#------------\n",
      "Kernel size: [10, 10, 2, 2] runtime: 0.36 mins \n",
      "               precision    recall  f1-score   support\n",
      "\n",
      "  0-not ship       1.00      1.00      1.00  16255900\n",
      "      1-ship       0.26      0.86      0.40     24896\n",
      "\n",
      "    accuracy                           1.00  16280796\n",
      "   macro avg       0.63      0.93      0.70  16280796\n",
      "weighted avg       1.00      1.00      1.00  16280796\n",
      "\n",
      "#------------\n",
      "Kernel size: [11, 11, 2, 2] runtime: 0.43 mins \n",
      "               precision    recall  f1-score   support\n",
      "\n",
      "  0-not ship       1.00      1.00      1.00  16255900\n",
      "      1-ship       0.25      0.88      0.39     24896\n",
      "\n",
      "    accuracy                           1.00  16280796\n",
      "   macro avg       0.63      0.94      0.70  16280796\n",
      "weighted avg       1.00      1.00      1.00  16280796\n",
      "\n",
      "#------------\n",
      "#-------------------------------------------------------------------\n",
      "P_fa: 0.001\n",
      "#============\n",
      "Kernel size: [8, 8, 1, 1] runtime: 0.24 mins \n",
      "               precision    recall  f1-score   support\n",
      "\n",
      "  0-not ship       1.00      1.00      1.00  16255900\n",
      "      1-ship       0.26      0.73      0.39     24896\n",
      "\n",
      "    accuracy                           1.00  16280796\n",
      "   macro avg       0.63      0.86      0.69  16280796\n",
      "weighted avg       1.00      1.00      1.00  16280796\n",
      "\n",
      "#------------\n",
      "Kernel size: [10, 10, 1, 1] runtime: 0.35 mins \n",
      "               precision    recall  f1-score   support\n",
      "\n",
      "  0-not ship       1.00      1.00      1.00  16255900\n",
      "      1-ship       0.26      0.83      0.40     24896\n",
      "\n",
      "    accuracy                           1.00  16280796\n",
      "   macro avg       0.63      0.91      0.70  16280796\n",
      "weighted avg       1.00      1.00      1.00  16280796\n",
      "\n",
      "#------------\n",
      "Kernel size: [10, 10, 2, 2] runtime: 0.35 mins \n",
      "               precision    recall  f1-score   support\n",
      "\n",
      "  0-not ship       1.00      1.00      1.00  16255900\n",
      "      1-ship       0.26      0.87      0.40     24896\n",
      "\n",
      "    accuracy                           1.00  16280796\n",
      "   macro avg       0.63      0.93      0.70  16280796\n",
      "weighted avg       1.00      1.00      1.00  16280796\n",
      "\n",
      "#------------\n",
      "Kernel size: [11, 11, 2, 2] runtime: 0.42 mins \n",
      "               precision    recall  f1-score   support\n",
      "\n",
      "  0-not ship       1.00      1.00      1.00  16255900\n",
      "      1-ship       0.25      0.89      0.39     24896\n",
      "\n",
      "    accuracy                           1.00  16280796\n",
      "   macro avg       0.63      0.94      0.70  16280796\n",
      "weighted avg       1.00      1.00      1.00  16280796\n",
      "\n",
      "#------------\n",
      "#-------------------------------------------------------------------\n",
      "P_fa: 0.0012\n",
      "#============\n",
      "Kernel size: [8, 8, 1, 1] runtime: 0.23 mins \n",
      "               precision    recall  f1-score   support\n",
      "\n",
      "  0-not ship       1.00      1.00      1.00  16255900\n",
      "      1-ship       0.27      0.74      0.39     24896\n",
      "\n",
      "    accuracy                           1.00  16280796\n",
      "   macro avg       0.63      0.87      0.69  16280796\n",
      "weighted avg       1.00      1.00      1.00  16280796\n",
      "\n",
      "#------------\n",
      "Kernel size: [10, 10, 1, 1] runtime: 0.35 mins \n",
      "               precision    recall  f1-score   support\n",
      "\n",
      "  0-not ship       1.00      1.00      1.00  16255900\n",
      "      1-ship       0.26      0.84      0.40     24896\n",
      "\n",
      "    accuracy                           1.00  16280796\n",
      "   macro avg       0.63      0.92      0.70  16280796\n",
      "weighted avg       1.00      1.00      1.00  16280796\n",
      "\n",
      "#------------\n",
      "Kernel size: [10, 10, 2, 2] runtime: 0.35 mins \n",
      "               precision    recall  f1-score   support\n",
      "\n",
      "  0-not ship       1.00      1.00      1.00  16255900\n",
      "      1-ship       0.26      0.87      0.40     24896\n",
      "\n",
      "    accuracy                           1.00  16280796\n",
      "   macro avg       0.63      0.93      0.70  16280796\n",
      "weighted avg       1.00      1.00      1.00  16280796\n",
      "\n",
      "#------------\n",
      "Kernel size: [11, 11, 2, 2] runtime: 0.43 mins \n",
      "               precision    recall  f1-score   support\n",
      "\n",
      "  0-not ship       1.00      1.00      1.00  16255900\n",
      "      1-ship       0.25      0.89      0.39     24896\n",
      "\n",
      "    accuracy                           1.00  16280796\n",
      "   macro avg       0.63      0.94      0.70  16280796\n",
      "weighted avg       1.00      1.00      1.00  16280796\n",
      "\n",
      "#------------\n",
      "#-------------------------------------------------------------------\n"
     ]
    }
   ],
   "source": [
    "results = {}\n",
    "for p_fa in P_fa:\n",
    "    print(f'P_fa: {p_fa}')\n",
    "    print('#============')\n",
    "\n",
    "    results[f'P_fa_{p_fa}'] = {}\n",
    "\n",
    "    for kernel in kernel_params:\n",
    "        t0 = time.time()\n",
    "\n",
    "        detedt_cfar = np.array([CA_CFAR(image, kernel, p_fa) for image in data])\n",
    "\n",
    "        t1 = time.time()\n",
    "        run_time = round((t1-t0)/60, 2)\n",
    "        \n",
    "        results[f'P_fa_{p_fa}'][f'kernel_{kernel}'] = detedt_cfar\n",
    "        report = classification_report(target.flatten(), detedt_cfar.flatten(), \n",
    "                                        target_names=labels, output_dict=False)\n",
    "    #     results[f'cfar_analysis_report_{i[2]}'] = report\n",
    "        print(f'Kernel size: {kernel} runtime: {run_time} mins \\n', report)\n",
    "        print('#------------')\n",
    "    print('#-------------------------------------------------------------------')"
   ]
  },
  {
   "cell_type": "markdown",
   "metadata": {},
   "source": [
    "### Visualize the classification outputs \n",
    "Let's plot some images to compare the `actual data vs predicted data`, and `actual labels vs predicted labels`. One should keep in mind that the images undergone to size transformation.\n",
    "\n",
    "### Draw bound boxes \n",
    "The bboxes are created based on binary classification and it will fail if we try to apply on another type of images. Also one should ensure that inputs are 2d_arrays. If we pass also predicted data values of an image, the function returns bbox around the data values while vizualizing also the prediction labels on another image. However, it will still calculate the bbox parameters from label image."
   ]
  },
  {
   "cell_type": "code",
   "execution_count": null,
   "metadata": {},
   "outputs": [
    {
     "data": {
      "text/plain": [
       "dict_keys(['kernel_[10, 10, 1, 1]', 'kernel_[10, 10, 2, 2]', 'kernel_[8, 8, 1, 1]'])"
      ]
     },
     "execution_count": 30,
     "metadata": {},
     "output_type": "execute_result"
    }
   ],
   "source": [
    "results['P_fa_0.001'].keys()"
   ]
  },
  {
   "cell_type": "code",
   "execution_count": 10,
   "metadata": {},
   "outputs": [
    {
     "ename": "NameError",
     "evalue": "name 'results' is not defined",
     "output_type": "error",
     "traceback": [
      "\u001b[0;31m---------------------------------------------------------------------------\u001b[0m",
      "\u001b[0;31mNameError\u001b[0m                                 Traceback (most recent call last)",
      "\u001b[0;32m/tmp/ipykernel_34539/3533515624.py\u001b[0m in \u001b[0;36m<module>\u001b[0;34m\u001b[0m\n\u001b[1;32m     28\u001b[0m \u001b[0;34m\u001b[0m\u001b[0m\n\u001b[1;32m     29\u001b[0m \u001b[0;31m# visualize prediction examples\u001b[0m\u001b[0;34m\u001b[0m\u001b[0;34m\u001b[0m\u001b[0m\n\u001b[0;32m---> 30\u001b[0;31m \u001b[0mmultiple_im_plot\u001b[0m\u001b[0;34m(\u001b[0m\u001b[0;36m15\u001b[0m\u001b[0;34m)\u001b[0m\u001b[0;34m\u001b[0m\u001b[0;34m\u001b[0m\u001b[0m\n\u001b[0m",
      "\u001b[0;32m/tmp/ipykernel_34539/3533515624.py\u001b[0m in \u001b[0;36mmultiple_im_plot\u001b[0;34m(no_image)\u001b[0m\n\u001b[1;32m     20\u001b[0m \u001b[0;34m\u001b[0m\u001b[0m\n\u001b[1;32m     21\u001b[0m \u001b[0;34m\u001b[0m\u001b[0m\n\u001b[0;32m---> 22\u001b[0;31m     \u001b[0maxarr\u001b[0m\u001b[0;34m[\u001b[0m\u001b[0;36m1\u001b[0m\u001b[0;34m,\u001b[0m\u001b[0;36m0\u001b[0m\u001b[0;34m]\u001b[0m\u001b[0;34m.\u001b[0m\u001b[0mimshow\u001b[0m\u001b[0;34m(\u001b[0m\u001b[0mresults\u001b[0m\u001b[0;34m[\u001b[0m\u001b[0;34m'P_fa_0.001'\u001b[0m\u001b[0;34m]\u001b[0m\u001b[0;34m[\u001b[0m\u001b[0;34m'kernel_[10, 10, 1, 1]'\u001b[0m\u001b[0;34m]\u001b[0m\u001b[0;34m[\u001b[0m\u001b[0mno_image\u001b[0m\u001b[0;34m]\u001b[0m\u001b[0;34m,\u001b[0m \u001b[0mcmap\u001b[0m\u001b[0;34m=\u001b[0m\u001b[0;34m\"gray\"\u001b[0m\u001b[0;34m)\u001b[0m\u001b[0;34m\u001b[0m\u001b[0;34m\u001b[0m\u001b[0m\n\u001b[0m\u001b[1;32m     23\u001b[0m     \u001b[0maxarr\u001b[0m\u001b[0;34m[\u001b[0m\u001b[0;36m1\u001b[0m\u001b[0;34m,\u001b[0m\u001b[0;36m0\u001b[0m\u001b[0;34m]\u001b[0m\u001b[0;34m.\u001b[0m\u001b[0mset_title\u001b[0m\u001b[0;34m(\u001b[0m\u001b[0;34m'predicted labels'\u001b[0m\u001b[0;34m)\u001b[0m\u001b[0;34m\u001b[0m\u001b[0;34m\u001b[0m\u001b[0m\n\u001b[1;32m     24\u001b[0m     \u001b[0maxarr\u001b[0m\u001b[0;34m[\u001b[0m\u001b[0;36m1\u001b[0m\u001b[0;34m,\u001b[0m\u001b[0;36m1\u001b[0m\u001b[0;34m]\u001b[0m\u001b[0;34m.\u001b[0m\u001b[0mimshow\u001b[0m\u001b[0;34m(\u001b[0m\u001b[0mresults\u001b[0m\u001b[0;34m[\u001b[0m\u001b[0;34m'P_fa_0.001'\u001b[0m\u001b[0;34m]\u001b[0m\u001b[0;34m[\u001b[0m\u001b[0;34m'kernel_[11, 11, 2, 2]'\u001b[0m\u001b[0;34m]\u001b[0m\u001b[0;34m[\u001b[0m\u001b[0mno_image\u001b[0m\u001b[0;34m]\u001b[0m\u001b[0;34m,\u001b[0m \u001b[0mcmap\u001b[0m\u001b[0;34m=\u001b[0m\u001b[0;34m\"gray\"\u001b[0m\u001b[0;34m)\u001b[0m\u001b[0;34m\u001b[0m\u001b[0;34m\u001b[0m\u001b[0m\n",
      "\u001b[0;31mNameError\u001b[0m: name 'results' is not defined"
     ]
    },
    {
     "data": {
      "text/plain": [
       "<Figure size 432x288 with 0 Axes>"
      ]
     },
     "metadata": {},
     "output_type": "display_data"
    },
    {
     "data": {
      "image/png": "[encoded data removed]",
      "text/plain": [
       "<Figure size 936x936 with 6 Axes>"
      ]
     },
     "metadata": {
      "needs_background": "light"
     },
     "output_type": "display_data"
    }
   ],
   "source": [
    "# define functions for vizualization \n",
    "def multiple_im_plot(no_image):\n",
    "\n",
    "    vessel_chip = data[no_image]\n",
    "    vessel = vessel_chip[vessel_chip.shape[0]//2 - 10 : vessel_chip.shape[0]//2 + 10,\n",
    "                     vessel_chip.shape[1]//2 - 10 : vessel_chip.shape[1]//2 + 10 ]\n",
    "    \n",
    "    plt.figure()\n",
    "\n",
    "    #subplot(r,c) provide the no. of rows and columns\n",
    "    f, axarr = plt.subplots(2,3, figsize=(13, 13)) \n",
    "\n",
    "    # use the created array to output your multiple images. In this case I have stacked 4 images vertically\n",
    "    axarr[0,0].imshow(data[no_image])\n",
    "    axarr[0,0].set_title('actual data')\n",
    "    axarr[0,1].imshow(target[no_image], cmap=\"gray\")\n",
    "    axarr[0,1].set_title('actual labels')\n",
    "    axarr[0,2].imshow(vessel)\n",
    "    axarr[0,2].set_title('actual data zoomed')\n",
    "\n",
    "\n",
    "    axarr[1,0].imshow(results['P_fa_0.001']['kernel_[10, 10, 1, 1]'][no_image], cmap=\"gray\")\n",
    "    axarr[1,0].set_title('predicted labels')\n",
    "    axarr[1,1].imshow(results['P_fa_0.001']['kernel_[11, 11, 2, 2]'][no_image], cmap=\"gray\") \n",
    "    axarr[1,1].set_title('predicted labels')\n",
    "    axarr[1,2].imshow(results['P_fa_0.001']['kernel_[8, 8, 1, 1]'][no_image], cmap=\"gray\")\n",
    "    axarr[1,2].set_title('predicted labels')\n",
    "    \n",
    "# visualize prediction examples \n",
    "multiple_im_plot(15)   "
   ]
  },
  {
   "cell_type": "code",
   "execution_count": 13,
   "metadata": {},
   "outputs": [
    {
     "data": {
      "text/plain": [
       "<matplotlib.image.AxesImage at 0x7f415bd44dc0>"
      ]
     },
     "execution_count": 13,
     "metadata": {},
     "output_type": "execute_result"
    },
    {
     "data": {
      "image/png": "[encoded data removed]",
      "text/plain": [
       "<Figure size 432x288 with 1 Axes>"
      ]
     },
     "metadata": {
      "needs_background": "light"
     },
     "output_type": "display_data"
    }
   ],
   "source": [
    "image = data[1]\n",
    "params = [10, 10, 1, 1]\n",
    "P_fa = 1e-3\n",
    "vessel_reg = CA_CFAR(image, params, P_fa)\n",
    "\n",
    "plt.imshow(vessel_reg)"
   ]
  },
  {
   "cell_type": "code",
   "execution_count": 14,
   "metadata": {},
   "outputs": [
    {
     "data": {
      "text/plain": [
       "<matplotlib.image.AxesImage at 0x7f415bcb1790>"
      ]
     },
     "execution_count": 14,
     "metadata": {},
     "output_type": "execute_result"
    },
    {
     "data": {
      "image/png": "[encoded data removed]",
      "text/plain": [
       "<Figure size 432x288 with 1 Axes>"
      ]
     },
     "metadata": {
      "needs_background": "light"
     },
     "output_type": "display_data"
    }
   ],
   "source": [
    "from scipy.ndimage import find_objects, label\n",
    "labels, _ = label(vessel_reg)\n",
    "onjects = find_objects(labels)\n",
    "\n",
    "obj_1 = onjects[0]\n",
    "\n",
    "center_obj = ((obj_1[0].start + obj_1[0].stop)//2,\n",
    "              (obj_1[1].start + obj_1[1].stop)//2)\n",
    "\n",
    "small_chip = image[ center_obj[0] - 15 : center_obj[0] + 15,\n",
    "                    center_obj[1] - 15 : center_obj[1] + 15]\n",
    "\n",
    "plt.imshow(small_chip)"
   ]
  },
  {
   "cell_type": "code",
   "execution_count": 15,
   "metadata": {},
   "outputs": [
    {
     "data": {
      "text/plain": [
       "<matplotlib.image.AxesImage at 0x7f415bc80ee0>"
      ]
     },
     "execution_count": 15,
     "metadata": {},
     "output_type": "execute_result"
    },
    {
     "data": {
      "image/png": "[encoded data removed]",
      "text/plain": [
       "<Figure size 432x288 with 1 Axes>"
      ]
     },
     "metadata": {
      "needs_background": "light"
     },
     "output_type": "display_data"
    }
   ],
   "source": [
    "params_vessel = [15, 15, 1, 1]\n",
    "P_fa_vessel = 1e-1\n",
    "vessel = CA_CFAR(small_chip, params_vessel, P_fa_vessel)\n",
    "\n",
    "plt.imshow(vessel)"
   ]
  },
  {
   "cell_type": "markdown",
   "metadata": {},
   "source": [
    "#### OS_CFAR vessel detector"
   ]
  },
  {
   "cell_type": "code",
   "execution_count": 21,
   "metadata": {},
   "outputs": [
    {
     "data": {
      "text/plain": [
       "<matplotlib.image.AxesImage at 0x7f415b7f3a30>"
      ]
     },
     "execution_count": 21,
     "metadata": {},
     "output_type": "execute_result"
    },
    {
     "data": {
      "image/png": "[encoded data removed]",
      "text/plain": [
       "<Figure size 432x288 with 1 Axes>"
      ]
     },
     "metadata": {
      "needs_background": "light"
     },
     "output_type": "display_data"
    }
   ],
   "source": [
    "image = data[1]\n",
    "params = [12, 12, 4, 4]\n",
    "P_fa = 1e-18\n",
    "vessel = OS_CFAR(image, params, P_fa, 3)\n",
    "\n",
    "plt.imshow(vessel)"
   ]
  },
  {
   "cell_type": "code",
   "execution_count": 27,
   "metadata": {},
   "outputs": [
    {
     "data": {
      "text/plain": [
       "<a list of 17 BarContainer objects>"
      ]
     },
     "execution_count": 27,
     "metadata": {},
     "output_type": "execute_result"
    },
    {
     "data": {
      "image/png": "[encoded data removed]",
      "text/plain": [
       "<Figure size 432x288 with 1 Axes>"
      ]
     },
     "metadata": {
      "needs_background": "light"
     },
     "output_type": "display_data"
    }
   ],
   "source": [
    "c = image[:mask.shape[0], :mask.shape[1]]\n",
    "\n",
    "plt.hist(c)[-1]"
   ]
  },
  {
   "cell_type": "code",
   "execution_count": 19,
   "metadata": {},
   "outputs": [],
   "source": [
    "win_width = params[0]\n",
    "win_height = params[1]\n",
    "guard_width = params[2]\n",
    "guard_height = params[3]\n",
    "\n",
    "# Create window mask with guard cells\n",
    "mask = np.ones((2 * win_height + 1, 2 * win_width + 1), dtype=bool)\n",
    "mask[win_height - guard_height:win_height + 1 + guard_height,\n",
    "        win_width - guard_width:win_width + 1 + guard_width] = 0"
   ]
  },
  {
   "cell_type": "code",
   "execution_count": 41,
   "metadata": {},
   "outputs": [
    {
     "data": {
      "text/plain": [
       "<a list of 21 BarContainer objects>"
      ]
     },
     "execution_count": 41,
     "metadata": {},
     "output_type": "execute_result"
    },
    {
     "data": {
      "image/png": "[encoded data removed]",
      "text/plain": [
       "<Figure size 432x288 with 1 Axes>"
      ]
     },
     "metadata": {
      "needs_background": "light"
     },
     "output_type": "display_data"
    }
   ],
   "source": [
    "plt.hist(np.log10(c))[2]"
   ]
  }
 ],
 "metadata": {
  "kernelspec": {
   "display_name": "Python 3.9.7 ('ship')",
   "language": "python",
   "name": "python3"
  },
  "language_info": {
   "codemirror_mode": {
    "name": "ipython",
    "version": 3
   },
   "file_extension": ".py",
   "mimetype": "text/x-python",
   "name": "python",
   "nbconvert_exporter": "python",
   "pygments_lexer": "ipython3",
   "version": "3.9.7"
  },
  "vscode": {
   "interpreter": {
    "hash": "2bd46af3ab93ec165ee38ebb339f2a5b01cad18b1814feb551138d29fba2536a"
   }
  }
 },
 "nbformat": 4,
 "nbformat_minor": 4
}
