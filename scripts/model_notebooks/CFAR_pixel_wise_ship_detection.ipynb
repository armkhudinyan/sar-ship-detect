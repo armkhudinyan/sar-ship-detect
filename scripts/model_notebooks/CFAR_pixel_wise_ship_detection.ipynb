{
 "cells": [
  {
   "cell_type": "markdown",
   "metadata": {},
   "source": [
    "## Cell-Aaverage Constant False Alarm Rate for pixel-wise ship detection\n",
    "\n",
    "CA-CFAR model from the article: [Object Detection with Automotive Radar Sensors using CFAR Algorithms](https://www.jku.at/fileadmin/gruppen/183/Docs/Finished_Theses/Bachelor_Thesis_Katzlberger_final.pdf)\n",
    "\n",
    "Dataset can be aqcuired [here:](https://gitlab.com/sarmaps/sar-ship-dataset), and the pre-processing description [here:](https://ieeexplore.ieee.org/document/7729017/algorithms?tabFilter=dataset#algorithms)\n"
   ]
  },
  {
   "cell_type": "code",
   "execution_count": 2,
   "metadata": {},
   "outputs": [],
   "source": [
    "import os\n",
    "from os.path import join\n",
    "import numpy as np \n",
    "import pandas as pd \n",
    "from collections import Counter\n",
    "from sklearn.metrics import classification_report, confusion_matrix\n",
    "from matplotlib import pyplot as plt\n",
    "%matplotlib inline\n",
    "\n",
    "import sys\n",
    "sys.path.append('/home/mkhudinyan/GitHub/sar_ship_detect/scripts')\n",
    "from utils import bbox_draw, data_extractor\n",
    "from cfar import CA_CFAR"
   ]
  },
  {
   "cell_type": "code",
   "execution_count": 3,
   "metadata": {},
   "outputs": [],
   "source": [
    "PATH = '/home/mkhudinyan/GitHub/sar_ship_detect'\n",
    "#data_path = join(os. getcwd(), '..','data', 'Iceberg-classifier-challenge')\n",
    "data_path = join(PATH, 'data', 'very_deep_learn_data', 'json')"
   ]
  },
  {
   "cell_type": "code",
   "execution_count": 4,
   "metadata": {
    "scrolled": true
   },
   "outputs": [
    {
     "data": {
      "text/plain": [
       "['true_negatives.json', 'false_positives.json', 'ship_positives.json']"
      ]
     },
     "execution_count": 4,
     "metadata": {},
     "output_type": "execute_result"
    }
   ],
   "source": [
    "os.listdir(data_path)"
   ]
  },
  {
   "cell_type": "markdown",
   "metadata": {},
   "source": [
    "### Data Pre-processing\n",
    "###### As we carry a pixel-wise classification, we will pick up only the dataset containing ships `(ship_positives)`.\n",
    "\n",
    "Dataset presents 1596 ship containing SAR image chips from `Sentinel-1` (Extra Wide Swath) and `RADARSAT-2` sensors. "
   ]
  },
  {
   "cell_type": "code",
   "execution_count": 5,
   "metadata": {},
   "outputs": [
    {
     "name": "stdout",
     "output_type": "stream",
     "text": [
      "true_positives:  (1, 1596)\n"
     ]
    }
   ],
   "source": [
    "#Load the data.\n",
    "ship_positives = pd.read_json(join(data_path, 'ship_positives.json'))\n",
    "print('true_positives: ',ship_positives.shape)\n",
    "true_negative = pd.read_json(join(data_path, 'true_negatives.json'))"
   ]
  },
  {
   "cell_type": "code",
   "execution_count": 6,
   "metadata": {
    "scrolled": false
   },
   "outputs": [
    {
     "data": {
      "text/plain": [
       "dict_keys(['id', 'sensor', 'resolution', 'fullname', 'polarisation', 'incidenceangle', 'row', 'column', 'longitude', 'latitude', 'stats', 'R', 'nearest', 'pixelsize', 'patchfu', 'patchgt', 'windowfu', 'windowgt', 'validais', 'ais', 'aux'])"
      ]
     },
     "execution_count": 6,
     "metadata": {},
     "output_type": "execute_result"
    }
   ],
   "source": [
    "# the following information is provided for each of the ship data\n",
    "ship_positives[0][0].keys()"
   ]
  },
  {
   "cell_type": "code",
   "execution_count": 10,
   "metadata": {},
   "outputs": [
    {
     "data": {
      "text/plain": [
       "(HH    231\n",
       " HV    149\n",
       " VV    559\n",
       " VH    657\n",
       " dtype: int64,\n",
       " SEN1    1496\n",
       " RSAT     100\n",
       " dtype: int64)"
      ]
     },
     "execution_count": 10,
     "metadata": {},
     "output_type": "execute_result"
    }
   ],
   "source": [
    "# check the polarisation mode of the dataset\n",
    "pol = [ship_positives[i][0]['polarisation'] for i in range(ship_positives.size)]\n",
    "sen = [ship_positives[i][0]['sensor'] for i in range(ship_positives.size)]\n",
    "pd.Series(Counter(pol)), pd.Series(Counter(sen))\n"
   ]
  },
  {
   "cell_type": "code",
   "execution_count": 11,
   "metadata": {},
   "outputs": [
    {
     "data": {
      "text/plain": [
       "(101, 101)"
      ]
     },
     "execution_count": 11,
     "metadata": {},
     "output_type": "execute_result"
    }
   ],
   "source": [
    "# print SAR imahe chip size\n",
    "np.array(ship_positives[0][0]['patchgt']).shape"
   ]
  },
  {
   "cell_type": "code",
   "execution_count": 86,
   "metadata": {
    "scrolled": true
   },
   "outputs": [],
   "source": [
    "# dsize = (101, 101)\n",
    "\n",
    "# get true positive data\n",
    "data = ship_positive_data = data_extractor(ship_positives, 'windowfu') # patchfu-101 |windowfu -21\n",
    "# get the pixel based classes \n",
    "target = ship_positive_target = data_extractor(ship_positives, 'windowgt') # patchgt -101 |windowgt -21"
   ]
  },
  {
   "cell_type": "code",
   "execution_count": 35,
   "metadata": {},
   "outputs": [
    {
     "data": {
      "text/plain": [
       "((1596, 21, 21), (1596, 101, 101))"
      ]
     },
     "execution_count": 35,
     "metadata": {},
     "output_type": "execute_result"
    }
   ],
   "source": [
    "# patchfu\n",
    "data_extractor(ship_positives, 'windowfu').shape, data_extractor(ship_positives, 'patchfu').shape\n"
   ]
  },
  {
   "cell_type": "code",
   "execution_count": 45,
   "metadata": {},
   "outputs": [
    {
     "data": {
      "text/plain": [
       "<matplotlib.image.AxesImage at 0x7f168952ceb0>"
      ]
     },
     "execution_count": 45,
     "metadata": {},
     "output_type": "execute_result"
    },
    {
     "data": {
      "text/plain": [
       "<Figure size 432x288 with 0 Axes>"
      ]
     },
     "metadata": {},
     "output_type": "display_data"
    },
    {
     "data": {
      "image/png": "[encoded data removed]",
      "text/plain": [
       "<Figure size 720x720 with 3 Axes>"
      ]
     },
     "metadata": {
      "needs_background": "light"
     },
     "output_type": "display_data"
    }
   ],
   "source": [
    "patchfu = data_extractor(ship_positives, 'patchfu')[0]\n",
    "patchfu_21 = patchfu[patchfu.shape[0]//2 - 10 : patchfu.shape[0]//2 + 10,\n",
    "                     patchfu.shape[1]//2 - 10 : patchfu.shape[1]//2 + 10 ]\n",
    "# plt.imshow(data_extractor(ship_positives, 'patchfu')[0])\n",
    "plt.figure()\n",
    "\n",
    "#subplot(r,c) provide the no. of rows and columns\n",
    "f, axarr = plt.subplots(1,3, figsize=(10, 10)) \n",
    "\n",
    "# use the created array to output your multiple images. \n",
    "axarr[0].imshow(data_extractor(ship_positives, 'windowfu')[0])\n",
    "axarr[1].imshow(data_extractor(ship_positives, 'patchfu')[0])\n",
    "axarr[2].imshow(patchfu_21)  "
   ]
  },
  {
   "cell_type": "code",
   "execution_count": 15,
   "metadata": {},
   "outputs": [],
   "source": [
    "# Resize the images\n",
    "# dsize = (80, 80)\n",
    "# ship_positive_80 = np.array([im_resize(image, dsize, interpolation=cv2.INTER_NEAREST) for image in ship_positive_data])\n",
    "# target_80 = np.array([im_resize(image, dsize, interpolation=cv2.INTER_NEAREST ) for image in ship_positive_target])"
   ]
  },
  {
   "cell_type": "code",
   "execution_count": 13,
   "metadata": {},
   "outputs": [],
   "source": [
    "# renam the variables for the sake of ease\n",
    "# data = ship_positive_data\n",
    "# target = ship_positive_target"
   ]
  },
  {
   "cell_type": "code",
   "execution_count": 15,
   "metadata": {},
   "outputs": [
    {
     "name": "stdout",
     "output_type": "stream",
     "text": [
      "Data shape:\t (1596, 101, 101)\n",
      "Target shape:\t (1596, 101, 101)\n"
     ]
    }
   ],
   "source": [
    "print('Data shape:\\t', data.shape)\n",
    "print('Target shape:\\t',target.shape)"
   ]
  },
  {
   "cell_type": "markdown",
   "metadata": {},
   "source": [
    "### Data visualization"
   ]
  },
  {
   "cell_type": "code",
   "execution_count": 16,
   "metadata": {},
   "outputs": [
    {
     "data": {
      "text/plain": [
       "Text(0.5, 1.0, 'radar data')"
      ]
     },
     "execution_count": 16,
     "metadata": {},
     "output_type": "execute_result"
    },
    {
     "data": {
      "text/plain": [
       "<Figure size 432x288 with 0 Axes>"
      ]
     },
     "metadata": {},
     "output_type": "display_data"
    },
    {
     "data": {
      "image/png": "[encoded data removed]",
      "text/plain": [
       "<Figure size 720x720 with 3 Axes>"
      ]
     },
     "metadata": {
      "needs_background": "light"
     },
     "output_type": "display_data"
    }
   ],
   "source": [
    "# visualize image samples \n",
    "plt.figure()\n",
    "\n",
    "#subplot(r,c) provide the no. of rows and columns\n",
    "f, axarr = plt.subplots(1,3, figsize=(10, 10)) \n",
    "\n",
    "# use the created array to output your multiple images. \n",
    "axarr[0].imshow(data[1200,:,:])\n",
    "axarr[0].set_title('radar data')\n",
    "axarr[1].imshow(data[14,:,:])  \n",
    "axarr[1].set_title('radar data')\n",
    "axarr[2].imshow(data[43,:,:])\n",
    "axarr[2].set_title('radar data')"
   ]
  },
  {
   "cell_type": "code",
   "execution_count": 17,
   "metadata": {},
   "outputs": [
    {
     "data": {
      "text/plain": [
       "Text(0.5, 1.0, 'target data')"
      ]
     },
     "execution_count": 17,
     "metadata": {},
     "output_type": "execute_result"
    },
    {
     "data": {
      "text/plain": [
       "<Figure size 432x288 with 0 Axes>"
      ]
     },
     "metadata": {},
     "output_type": "display_data"
    },
    {
     "data": {
      "image/png": "[encoded data removed]",
      "text/plain": [
       "<Figure size 720x720 with 3 Axes>"
      ]
     },
     "metadata": {
      "needs_background": "light"
     },
     "output_type": "display_data"
    }
   ],
   "source": [
    "# visualize target samples\n",
    "plt.figure()\n",
    "\n",
    "#subplot(r,c) provide the no. of rows and columns\n",
    "f, axarr = plt.subplots(1,3, figsize=(10, 10)) \n",
    "\n",
    "axarr[0].imshow(target[1200,:,:], cmap=\"gray\") \n",
    "axarr[0].set_title('target data')\n",
    "axarr[1].imshow(target[14,:,:], cmap=\"gray\") \n",
    "axarr[1].set_title('target data')\n",
    "axarr[2].imshow(target[43,:,:], cmap=\"gray\") \n",
    "axarr[2].set_title('target data')"
   ]
  },
  {
   "cell_type": "markdown",
   "metadata": {},
   "source": [
    "### Run CA-CFAR analysis"
   ]
  },
  {
   "cell_type": "code",
   "execution_count": 30,
   "metadata": {},
   "outputs": [],
   "source": [
    "data_key = ['windowfu', 'patchfu']\n",
    "target_key = ['windowgt', 'patchgt']\n",
    "chip_size = [21, 101]\n",
    "labels = ['0-not ship', '1-ship']"
   ]
  },
  {
   "cell_type": "code",
   "execution_count": 19,
   "metadata": {},
   "outputs": [],
   "source": [
    "# Define parameters for CFAR\n",
    "params = [10, 10, 1, 1]\n",
    "P_fa = [9e-4, 10e-4, 11e-4]\n",
    "\n",
    "# detedt_cfar = np.array([CA_CFAR(image, params, P_fa) for image in data])"
   ]
  },
  {
   "cell_type": "code",
   "execution_count": 53,
   "metadata": {},
   "outputs": [
    {
     "name": "stdout",
     "output_type": "stream",
     "text": [
      "P_fa: 0.0009\n",
      "#=================\n",
      "Image size: 21 \n",
      "               precision    recall  f1-score   support\n",
      "\n",
      "  0-not ship       0.99      1.00      0.99    678940\n",
      "      1-ship       0.86      0.79      0.82     24896\n",
      "\n",
      "    accuracy                           0.99    703836\n",
      "   macro avg       0.92      0.89      0.91    703836\n",
      "weighted avg       0.99      0.99      0.99    703836\n",
      "\n",
      "#-----------------\n",
      "Image size: 101 \n",
      "               precision    recall  f1-score   support\n",
      "\n",
      "  0-not ship       1.00      1.00      1.00  16255900\n",
      "      1-ship       0.26      0.82      0.40     24896\n",
      "\n",
      "    accuracy                           1.00  16280796\n",
      "   macro avg       0.63      0.91      0.70  16280796\n",
      "weighted avg       1.00      1.00      1.00  16280796\n",
      "\n",
      "#-----------------\n",
      "Image size: 80 \n",
      "               precision    recall  f1-score   support\n",
      "\n",
      "  0-not ship       1.00      1.00      1.00  10189504\n",
      "      1-ship       0.40      0.82      0.54     24896\n",
      "\n",
      "    accuracy                           1.00  10214400\n",
      "   macro avg       0.70      0.91      0.77  10214400\n",
      "weighted avg       1.00      1.00      1.00  10214400\n",
      "\n",
      "#-------------------------------------------------------------------\n",
      "P_fa: 0.001\n",
      "#=================\n",
      "Image size: 21 \n",
      "               precision    recall  f1-score   support\n",
      "\n",
      "  0-not ship       0.99      0.99      0.99    678940\n",
      "      1-ship       0.85      0.79      0.82     24896\n",
      "\n",
      "    accuracy                           0.99    703836\n",
      "   macro avg       0.92      0.89      0.91    703836\n",
      "weighted avg       0.99      0.99      0.99    703836\n",
      "\n",
      "#-----------------\n",
      "Image size: 101 \n",
      "               precision    recall  f1-score   support\n",
      "\n",
      "  0-not ship       1.00      1.00      1.00  16255900\n",
      "      1-ship       0.26      0.83      0.40     24896\n",
      "\n",
      "    accuracy                           1.00  16280796\n",
      "   macro avg       0.63      0.91      0.70  16280796\n",
      "weighted avg       1.00      1.00      1.00  16280796\n",
      "\n",
      "#-----------------\n",
      "Image size: 80 \n",
      "               precision    recall  f1-score   support\n",
      "\n",
      "  0-not ship       1.00      1.00      1.00  10189504\n",
      "      1-ship       0.40      0.83      0.54     24896\n",
      "\n",
      "    accuracy                           1.00  10214400\n",
      "   macro avg       0.70      0.91      0.77  10214400\n",
      "weighted avg       1.00      1.00      1.00  10214400\n",
      "\n",
      "#-------------------------------------------------------------------\n",
      "P_fa: 0.0011\n",
      "#=================\n",
      "Image size: 21 \n",
      "               precision    recall  f1-score   support\n",
      "\n",
      "  0-not ship       0.99      0.99      0.99    678940\n",
      "      1-ship       0.85      0.79      0.82     24896\n",
      "\n",
      "    accuracy                           0.99    703836\n",
      "   macro avg       0.92      0.89      0.91    703836\n",
      "weighted avg       0.99      0.99      0.99    703836\n",
      "\n",
      "#-----------------\n",
      "Image size: 101 \n",
      "               precision    recall  f1-score   support\n",
      "\n",
      "  0-not ship       1.00      1.00      1.00  16255900\n",
      "      1-ship       0.26      0.83      0.40     24896\n",
      "\n",
      "    accuracy                           1.00  16280796\n",
      "   macro avg       0.63      0.91      0.70  16280796\n",
      "weighted avg       1.00      1.00      1.00  16280796\n",
      "\n",
      "#-----------------\n",
      "Image size: 80 \n",
      "               precision    recall  f1-score   support\n",
      "\n",
      "  0-not ship       1.00      1.00      1.00  10189504\n",
      "      1-ship       0.40      0.83      0.54     24896\n",
      "\n",
      "    accuracy                           1.00  10214400\n",
      "   macro avg       0.70      0.92      0.77  10214400\n",
      "weighted avg       1.00      1.00      1.00  10214400\n",
      "\n",
      "#-------------------------------------------------------------------\n"
     ]
    }
   ],
   "source": [
    "results = {}\n",
    "for p_fa in P_fa:\n",
    "    print(f'P_fa: {p_fa}')\n",
    "    print('#============')\n",
    "\n",
    "    results[f'P_fa_{p_fa}'] = {}\n",
    "    for im_key, tar_key, size in zip(data_key, target_key, chip_size):\n",
    "        data = data_extractor(ship_positives, im_key)\n",
    "        target = data_extractor(ship_positives, tar_key)\n",
    "        # apply Lee filter\n",
    "#         data = np.array([lee_filter(image, 4) for image in data])\n",
    "\n",
    "        detedt_cfar = np.array([CA_CFAR(image, params, p_fa) for image in data])\n",
    "        results[f'P_fa_{p_fa}'][f'image_size_{size}'] = detedt_cfar\n",
    "        report = classification_report(target.flatten(), detedt_cfar.flatten(), \n",
    "                                        target_names=labels, output_dict=False)\n",
    "    #     results[f'cfar_analysis_report_{i[2]}'] = report\n",
    "        print(f'Image size: {size} \\n', report)\n",
    "        print('#------------')\n",
    "\n",
    "        if tar_key == 'patchgt':\n",
    "            # Crop images from center with 80x80 size\n",
    "            row, col = data[0].shape\n",
    "            if row < 80 or col <80:\n",
    "                raise ValueError('image size is not sufficient for cropping into 80x80 subimage')\n",
    "                \n",
    "            crow, ccol = int((row+1)//2) , int((col+1)//2)\n",
    "            data = np.array([image[crow-40 : crow+40, ccol-40 : ccol+40] \n",
    "                            for image in data])\n",
    "            target = np.array([image[crow-40 : crow+40, ccol-40 : ccol+40] \n",
    "                            for image in target])\n",
    "            # apply Lee filter\n",
    "#             data = np.array([lee_filter(image, 4) for image in data])\n",
    "            size = 80\n",
    "            detect_cfar = np.array([CA_CFAR(image, params, p_fa) for image in data])\n",
    "            results[f'P_fa_{p_fa}'][f'image_size_{size}'] = detedt_cfar\n",
    "\n",
    "            report = classification_report(target.flatten(), detect_cfar.flatten(), \n",
    "                                        target_names=labels, output_dict=False)\n",
    "            print(f'Image size: {data[0].shape[0]} \\n', report)\n",
    "    print('#-------------------------------------------------------------------')"
   ]
  },
  {
   "cell_type": "markdown",
   "metadata": {},
   "source": [
    "### Visualize the classification outputs \n",
    "Let's plot some images to compare the `actual data vs predicted data`, and `actual labels vs predicted labels`. One should keep in mind that the images undergone to size transformation.\n",
    "\n",
    "### Draw bound boxes \n",
    "The bboxes are created based on binary classification and it will fail if we try to apply on another type of images. Also one should ensure that inputs are 2d_arrays. If we pass also predicted data values of an image, the function returns bbox around the data values while vizualizing also the prediction labels on another image. However, it will still calculate the bbox parameters from label image."
   ]
  },
  {
   "cell_type": "code",
   "execution_count": 92,
   "metadata": {},
   "outputs": [
    {
     "data": {
      "text/plain": [
       "<Figure size 432x288 with 0 Axes>"
      ]
     },
     "metadata": {},
     "output_type": "display_data"
    },
    {
     "data": {
      "image/png": "[encoded data removed]",
      "text/plain": [
       "<Figure size 720x720 with 4 Axes>"
      ]
     },
     "metadata": {
      "needs_background": "light"
     },
     "output_type": "display_data"
    }
   ],
   "source": [
    "# define functions for vizualization \n",
    "def multiple_im_plot(no_image):\n",
    "    \n",
    "    plt.figure()\n",
    "\n",
    "    #subplot(r,c) provide the no. of rows and columns\n",
    "    f, axarr = plt.subplots(2,2, figsize=(10, 10)) \n",
    "\n",
    "    # use the created array to output your multiple images. In this case I have stacked 4 images vertically\n",
    "    axarr[0,0].imshow(data[no_image])\n",
    "    axarr[0,0].set_title('actual data')\n",
    "    # axarr[0,1].imshow(bbox_draw(results['P_fa_0.001']['image_size_21'][no_image]))\n",
    "    # axarr[0,1].set_title('bbox prediction')\n",
    "    axarr[1,0].imshow(target[no_image], cmap=\"gray\")\n",
    "    axarr[1,0].set_title('actual labels')\n",
    "    axarr[1,1].imshow(results['P_fa_0.001']['image_size_21'][no_image], cmap=\"gray\") \n",
    "    axarr[1,1].set_title('predicted labels')\n",
    "    \n",
    "# visualize prediction examples \n",
    "multiple_im_plot(67)   "
   ]
  },
  {
   "cell_type": "code",
   "execution_count": 93,
   "metadata": {
    "scrolled": false
   },
   "outputs": [
    {
     "data": {
      "text/plain": [
       "<Figure size 432x288 with 0 Axes>"
      ]
     },
     "metadata": {},
     "output_type": "display_data"
    },
    {
     "data": {
      "image/png": "[encoded data removed]",
      "text/plain": [
       "<Figure size 360x360 with 1 Axes>"
      ]
     },
     "metadata": {
      "needs_background": "light"
     },
     "output_type": "display_data"
    }
   ],
   "source": [
    "# vizualiza predicted ships with bbox\n",
    "bbox_draw(results['P_fa_0.001']['image_size_21'][67])"
   ]
  },
  {
   "cell_type": "code",
   "execution_count": null,
   "metadata": {},
   "outputs": [],
   "source": []
  }
 ],
 "metadata": {
  "kernelspec": {
   "display_name": "Python 3",
   "language": "python",
   "name": "python3"
  },
  "language_info": {
   "codemirror_mode": {
    "name": "ipython",
    "version": 3
   },
   "file_extension": ".py",
   "mimetype": "text/x-python",
   "name": "python",
   "nbconvert_exporter": "python",
   "pygments_lexer": "ipython3",
   "version": "3.9.7"
  }
 },
 "nbformat": 4,
 "nbformat_minor": 4
}
